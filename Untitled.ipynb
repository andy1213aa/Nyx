{
 "cells": [
  {
   "cell_type": "code",
   "execution_count": 1,
   "metadata": {},
   "outputs": [],
   "source": [
    "import tensorflow as tf\n",
    "import os\n",
    "import numpy as np"
   ]
  },
  {
   "cell_type": "code",
   "execution_count": 1,
   "metadata": {},
   "outputs": [
    {
     "data": {
      "text/plain": [
       "<tensorflow.python.training.tracking.util.CheckpointLoadStatus at 0x23080d3be08>"
      ]
     },
     "execution_count": 1,
     "metadata": {},
     "output_type": "execute_result"
    }
   ],
   "source": [
    "from generator import generator\n",
    "\n",
    "model = generator()\n",
    "\n",
    "model.load_weights(r\"E:\\NTNU1-2\\Nyx\\NyxDataSet\\wgan\\2020-8-28_15-53\\gen\"+ \"\\\\trained_ckpt\")"
   ]
  },
  {
   "cell_type": "code",
   "execution_count": 10,
   "metadata": {},
   "outputs": [],
   "source": [
    "g = os.walk(r'E:\\NTNU1-2\\Nyx\\NyxDataSet\\NyxDataSet64_64_64')  \n",
    "training_set = []\n",
    "for path,dir_list,file_list in g:  \n",
    "    for file_name in file_list:  \n",
    "        tmp_data = np.fromfile(path+'\\\\'+file_name, dtype = 'float32')\n",
    "        tmp_data.tofile(r'E:\\NTNU1-2\\Nyx\\NyxDataSet\\NyxDataSet64_64_64' + f'\\\\{file_name}.bin')\n",
    "        #tmp_data_256_256_256 = tmp_data.reshape(256,256,256)\n",
    "        #tmp_data_16_16_16 = tmp_data_256_256_256[120:136, 120:136, 120:136]\n",
    "        #training_set.append(tmp_data.reshape((16, 16, 16, 1)))"
   ]
  },
  {
   "cell_type": "code",
   "execution_count": 5,
   "metadata": {},
   "outputs": [],
   "source": [
    "parameter1 = tf.constant([0.13733])\n",
    "\n",
    "parameter2 = tf.constant([0.02178])\n",
    "\n",
    "parameter3 = tf.constant([0.58625])"
   ]
  },
  {
   "cell_type": "code",
   "execution_count": 6,
   "metadata": {},
   "outputs": [
    {
     "data": {
      "text/plain": [
       "<tf.Tensor: shape=(1,), dtype=float32, numpy=array([0.13733], dtype=float32)>"
      ]
     },
     "execution_count": 6,
     "metadata": {},
     "output_type": "execute_result"
    }
   ],
   "source": []
  },
  {
   "cell_type": "code",
   "execution_count": 10,
   "metadata": {},
   "outputs": [],
   "source": [
    "\n",
    "filename = os.listdir(r'E:\\NTNU1-2\\Nyx\\NyxDataSet\\NyxDataSet16_16_16')\n",
    "\n",
    "\n",
    "\n",
    "parameter1 = tf.constant(np.array([np.float(file[5:12]) for file in filename], dtype=np.float32).reshape((len(filename), 1))[:64])\n",
    "parameter2 = tf.constant(np.array([np.float(file[13:20]) for file in filename], dtype=np.float32).reshape((len(filename), 1))[:64])\n",
    "parameter3 = tf.constant(np.array([np.float(file[21:28]) for file in filename], dtype=np.float32).reshape((len(filename), 1))[:64])\n"
   ]
  },
  {
   "cell_type": "code",
   "execution_count": 6,
   "metadata": {},
   "outputs": [],
   "source": [
    "c = model.predict([parameter1, parameter2, parameter3])"
   ]
  },
  {
   "cell_type": "code",
   "execution_count": 7,
   "metadata": {},
   "outputs": [],
   "source": [
    "c.tofile('NyxPredict-3')"
   ]
  },
  {
   "cell_type": "code",
   "execution_count": 35,
   "metadata": {},
   "outputs": [],
   "source": [
    "maxs = np.max(training_set[2])"
   ]
  },
  {
   "cell_type": "code",
   "execution_count": 36,
   "metadata": {},
   "outputs": [],
   "source": [
    "mins = np.min(training_set[2])"
   ]
  },
  {
   "cell_type": "code",
   "execution_count": 37,
   "metadata": {},
   "outputs": [
    {
     "data": {
      "text/plain": [
       "<tf.Tensor: shape=(), dtype=float32, numpy=0.088198915>"
      ]
     },
     "execution_count": 37,
     "metadata": {},
     "output_type": "execute_result"
    }
   ],
   "source": [
    "tf.sqrt(tf.reduce_mean((training_set[2] - c.numpy()[2])**2)) / (maxs - mins)"
   ]
  },
  {
   "cell_type": "code",
   "execution_count": 27,
   "metadata": {},
   "outputs": [],
   "source": [
    "c.numpy()[1].reshape((16, 16, 16)).tofile(r'E:\\NTNU1-2\\Nyx\\3D8.4%_0001train_16x16x16.bin')"
   ]
  },
  {
   "cell_type": "code",
   "execution_count": 1,
   "metadata": {},
   "outputs": [
    {
     "name": "stdout",
     "output_type": "stream",
     "text": [
      "26.254920959472656\n",
      "40.9454345703125\n",
      "38.44074249267578\n",
      "51.62454605102539\n",
      "50.03461837768555\n",
      "42.96098709106445\n",
      "47.172183990478516\n",
      "32.50776290893555\n",
      "49.20738220214844\n",
      "51.04766845703125\n",
      "47.757568359375\n",
      "44.373416900634766\n",
      "26.882781982421875\n",
      "48.76100540161133\n",
      "31.63501739501953\n",
      "49.29323196411133\n",
      "27.926921844482422\n",
      "51.94435119628906\n",
      "50.590057373046875\n",
      "33.85824203491211\n",
      "38.85599136352539\n",
      "49.88475799560547\n",
      "52.62779235839844\n",
      "33.08042526245117\n",
      "29.186115264892578\n",
      "36.652069091796875\n",
      "51.15440368652344\n",
      "32.91595458984375\n",
      "52.51771926879883\n",
      "42.53204345703125\n",
      "42.86195755004883\n",
      "38.37444305419922\n",
      "46.75142288208008\n",
      "33.38151931762695\n",
      "34.91626739501953\n",
      "52.90372848510742\n",
      "48.877105712890625\n",
      "45.93198776245117\n",
      "40.80411911010742\n",
      "45.611515045166016\n",
      "51.479740142822266\n",
      "49.458255767822266\n",
      "51.739044189453125\n",
      "38.37360382080078\n",
      "28.511905670166016\n",
      "49.73888397216797\n",
      "32.2205924987793\n",
      "51.08781814575195\n",
      "47.80630111694336\n",
      "28.318634033203125\n",
      "52.844810485839844\n",
      "33.5020637512207\n",
      "49.973812103271484\n",
      "46.374244689941406\n",
      "49.98870849609375\n",
      "52.55561828613281\n",
      "37.966957092285156\n",
      "50.60285568237305\n",
      "49.469566345214844\n",
      "31.314525604248047\n",
      "25.529403686523438\n",
      "53.15603256225586\n",
      "43.33086013793945\n",
      "41.12447738647461\n",
      "26.821365356445312\n",
      "52.49300003051758\n",
      "28.71654510498047\n",
      "47.770538330078125\n",
      "45.315093994140625\n",
      "49.695472717285156\n",
      "49.79949951171875\n",
      "52.9139518737793\n",
      "36.7072868347168\n",
      "29.95258331298828\n",
      "32.95806884765625\n",
      "38.45754623413086\n",
      "31.113338470458984\n",
      "40.22878646850586\n",
      "44.600067138671875\n",
      "52.4406623840332\n",
      "32.43358612060547\n",
      "50.0836181640625\n",
      "51.940250396728516\n",
      "29.104347229003906\n",
      "31.435108184814453\n",
      "34.08510208129883\n",
      "37.18061447143555\n",
      "52.47323989868164\n",
      "26.715641021728516\n",
      "28.07422637939453\n",
      "35.7618522644043\n",
      "50.00162124633789\n",
      "29.11968231201172\n",
      "37.42979049682617\n",
      "32.631168365478516\n",
      "35.88357925415039\n",
      "48.545494079589844\n",
      "51.0407829284668\n",
      "42.518043518066406\n",
      "49.853553771972656\n",
      "50.18220901489258\n",
      "50.39745330810547\n",
      "35.377349853515625\n",
      "37.88312911987305\n",
      "52.89356231689453\n",
      "29.140148162841797\n",
      "53.066158294677734\n",
      "41.467857360839844\n",
      "35.11110305786133\n",
      "41.38294219970703\n",
      "43.39845657348633\n",
      "50.51992416381836\n",
      "44.58555221557617\n",
      "46.05325698852539\n",
      "26.679954528808594\n",
      "34.1999626159668\n",
      "47.650909423828125\n",
      "36.19895935058594\n",
      "49.715023040771484\n",
      "52.55281448364258\n",
      "47.02747344970703\n",
      "51.44050598144531\n",
      "28.626728057861328\n",
      "29.25466537475586\n",
      "27.135448455810547\n",
      "38.78334045410156\n",
      "49.04125213623047\n",
      "32.94727325439453\n",
      "27.611331939697266\n",
      "33.43177795410156\n",
      "28.19507598876953\n",
      "32.546234130859375\n",
      "47.825889587402344\n",
      "47.817726135253906\n",
      "52.82470703125\n",
      "41.178245544433594\n",
      "51.13838195800781\n",
      "50.040130615234375\n",
      "43.251953125\n",
      "38.2623291015625\n",
      "31.85039520263672\n",
      "28.539047241210938\n",
      "38.37446212768555\n",
      "53.17888259887695\n",
      "52.5677490234375\n",
      "53.004493713378906\n",
      "40.61573028564453\n",
      "50.40149688720703\n",
      "28.349170684814453\n",
      "31.041221618652344\n",
      "52.652950286865234\n",
      "36.46308898925781\n",
      "42.01932907104492\n",
      "43.38226318359375\n",
      "27.023773193359375\n",
      "28.28155517578125\n",
      "30.94146728515625\n",
      "51.75668716430664\n",
      "51.969242095947266\n",
      "47.693843841552734\n",
      "41.07450485229492\n",
      "46.796875\n",
      "43.41947555541992\n",
      "28.736095428466797\n",
      "51.203346252441406\n",
      "30.265216827392578\n",
      "52.637290954589844\n",
      "48.065643310546875\n",
      "34.01155471801758\n",
      "29.156360626220703\n",
      "29.042911529541016\n",
      "46.99586868286133\n",
      "32.375240325927734\n",
      "52.55279541015625\n",
      "43.01755905151367\n",
      "51.21936798095703\n",
      "50.13551712036133\n",
      "38.711585998535156\n",
      "45.73173522949219\n",
      "52.83592224121094\n",
      "41.539554595947266\n",
      "29.3914794921875\n",
      "51.44071578979492\n",
      "48.338565826416016\n",
      "35.36100387573242\n",
      "29.21651840209961\n",
      "50.004844665527344\n",
      "47.312984466552734\n",
      "31.752758026123047\n",
      "51.07105255126953\n",
      "52.57762908935547\n",
      "51.32270812988281\n",
      "28.50330352783203\n",
      "52.58289337158203\n",
      "52.765045166015625\n",
      "48.12116622924805\n",
      "27.761001586914062\n",
      "51.04207992553711\n",
      "51.44142150878906\n",
      "33.908729553222656\n",
      "46.99686050415039\n",
      "38.06745529174805\n",
      "28.653030395507812\n",
      "40.35419464111328\n",
      "50.58637619018555\n",
      "51.207027435302734\n",
      "52.53446578979492\n",
      "41.693115234375\n",
      "50.93982696533203\n",
      "45.530338287353516\n",
      "48.22765350341797\n",
      "51.49559020996094\n",
      "47.84879684448242\n",
      "44.1486930847168\n",
      "31.40228271484375\n",
      "50.75428009033203\n",
      "30.83139419555664\n",
      "34.46332931518555\n",
      "49.69318389892578\n",
      "36.49360656738281\n",
      "43.410282135009766\n",
      "52.35029220581055\n",
      "34.739837646484375\n",
      "26.010093688964844\n",
      "46.590309143066406\n",
      "30.076847076416016\n",
      "47.89115905761719\n",
      "40.51145553588867\n",
      "47.21681594848633\n",
      "30.085277557373047\n",
      "51.14152908325195\n",
      "32.94841766357422\n",
      "40.33905029296875\n",
      "43.806190490722656\n",
      "37.284278869628906\n",
      "48.18458557128906\n",
      "32.38018035888672\n",
      "33.3845329284668\n",
      "51.44775390625\n",
      "41.252498626708984\n",
      "27.17273712158203\n",
      "49.4047737121582\n",
      "36.96521759033203\n",
      "51.892337799072266\n",
      "35.72792053222656\n",
      "39.493064880371094\n",
      "42.61354446411133\n",
      "52.72279739379883\n",
      "30.356693267822266\n",
      "52.576866149902344\n",
      "50.062618255615234\n",
      "40.19336700439453\n",
      "29.32830810546875\n",
      "44.50477600097656\n",
      "45.615501403808594\n",
      "33.24033737182617\n",
      "50.83160400390625\n",
      "29.771461486816406\n",
      "51.51418685913086\n",
      "31.298484802246094\n",
      "41.20260238647461\n",
      "48.11323165893555\n",
      "47.7088737487793\n",
      "38.01582336425781\n",
      "37.34710693359375\n",
      "30.244178771972656\n",
      "33.84300231933594\n",
      "33.211936950683594\n",
      "45.35636901855469\n",
      "47.38542556762695\n",
      "52.47987747192383\n",
      "40.514259338378906\n",
      "34.56291198730469\n",
      "43.33635330200195\n",
      "36.198978424072266\n",
      "52.90760040283203\n",
      "52.5391960144043\n",
      "33.46879959106445\n",
      "29.30225372314453\n",
      "37.79794692993164\n",
      "46.708431243896484\n",
      "46.491546630859375\n",
      "51.41284942626953\n",
      "29.795913696289062\n",
      "52.435550689697266\n",
      "37.64533996582031\n",
      "41.68367385864258\n",
      "48.36992263793945\n",
      "37.83567428588867\n",
      "49.37395095825195\n",
      "35.24446487426758\n",
      "36.786651611328125\n",
      "26.121673583984375\n",
      "39.371681213378906\n",
      "46.851654052734375\n",
      "50.92082977294922\n",
      "38.869571685791016\n",
      "43.488922119140625\n",
      "50.20515441894531\n",
      "50.40773391723633\n",
      "45.54840087890625\n",
      "49.815616607666016\n",
      "39.669132232666016\n",
      "50.76295852661133\n",
      "49.8295783996582\n",
      "25.215702056884766\n",
      "48.68476867675781\n",
      "41.425323486328125\n",
      "39.834556579589844\n",
      "40.35539627075195\n",
      "44.68475341796875\n",
      "29.54000473022461\n",
      "46.54226303100586\n",
      "47.39591598510742\n",
      "39.03545379638672\n",
      "31.439247131347656\n",
      "37.7302360534668\n",
      "40.23832321166992\n",
      "38.583641052246094\n",
      "40.60462951660156\n",
      "51.86601638793945\n",
      "42.967376708984375\n",
      "35.102787017822266\n",
      "43.678932189941406\n",
      "47.746238708496094\n",
      "33.98469924926758\n",
      "36.01228713989258\n",
      "27.476520538330078\n",
      "31.373882293701172\n",
      "52.314796447753906\n",
      "46.82994842529297\n",
      "48.06657791137695\n",
      "53.18336486816406\n",
      "37.28343963623047\n",
      "39.38362121582031\n",
      "50.01861572265625\n",
      "37.593326568603516\n",
      "49.04157638549805\n",
      "47.5408935546875\n",
      "48.09629440307617\n",
      "32.7937126159668\n",
      "53.16450119018555\n",
      "48.053016662597656\n",
      "50.85744857788086\n",
      "50.545196533203125\n",
      "49.131507873535156\n",
      "49.1746711730957\n",
      "34.911155700683594\n",
      "48.5687255859375\n",
      "50.53495407104492\n",
      "43.205299377441406\n",
      "26.319541931152344\n",
      "44.465084075927734\n",
      "48.22223663330078\n",
      "30.167579650878906\n",
      "50.61800003051758\n",
      "29.676551818847656\n",
      "35.86568832397461\n",
      "46.15663528442383\n",
      "44.566383361816406\n",
      "47.81951904296875\n",
      "30.58053970336914\n",
      "40.83009719848633\n",
      "52.72064208984375\n",
      "43.083744049072266\n",
      "52.607975006103516\n",
      "47.327232360839844\n",
      "48.40801239013672\n",
      "49.66838836669922\n",
      "50.06011962890625\n",
      "52.53713607788086\n",
      "33.862457275390625\n",
      "29.022197723388672\n",
      "31.947059631347656\n",
      "40.18413543701172\n",
      "44.10633087158203\n",
      "50.844974517822266\n",
      "46.20262145996094\n",
      "52.458763122558594\n",
      "31.713790893554688\n",
      "49.72480773925781\n",
      "51.22579574584961\n",
      "30.983009338378906\n",
      "49.60050582885742\n",
      "32.326087951660156\n",
      "43.028507232666016\n",
      "51.27836227416992\n",
      "52.18482971191406\n",
      "38.0351448059082\n",
      "45.668678283691406\n",
      "52.50791549682617\n",
      "50.403175354003906\n",
      "51.05268478393555\n",
      "26.439456939697266\n",
      "42.9023551940918\n",
      "50.591468811035156\n",
      "42.47474670410156\n",
      "34.96387481689453\n",
      "32.598819732666016\n",
      "28.403263092041016\n",
      "51.87196731567383\n",
      "52.70729064941406\n",
      "49.04197692871094\n",
      "39.110164642333984\n",
      "35.76017379760742\n",
      "49.715118408203125\n",
      "47.42532730102539\n",
      "51.415252685546875\n",
      "33.14521789550781\n",
      "41.538448333740234\n",
      "35.37853240966797\n",
      "51.118221282958984\n",
      "48.224124908447266\n",
      "53.054542541503906\n",
      "34.117889404296875\n",
      "43.34613800048828\n",
      "47.90151596069336\n",
      "37.2821044921875\n",
      "47.80618667602539\n",
      "34.23107147216797\n",
      "42.489280700683594\n",
      "37.19461441040039\n",
      "53.12196731567383\n",
      "45.58452606201172\n",
      "38.302860260009766\n",
      "31.610965728759766\n",
      "53.004207611083984\n",
      "33.375816345214844\n",
      "47.25545883178711\n",
      "46.95024490356445\n",
      "46.867408752441406\n",
      "33.10075759887695\n",
      "27.09066390991211\n",
      "30.229225158691406\n",
      "27.46847152709961\n",
      "28.666629791259766\n",
      "42.890663146972656\n",
      "41.812686920166016\n",
      "31.051197052001953\n",
      "42.55270004272461\n",
      "52.06134796142578\n",
      "39.768409729003906\n",
      "51.62677764892578\n",
      "45.25646209716797\n",
      "45.23862838745117\n",
      "48.1306266784668\n",
      "31.499862670898438\n",
      "29.712200164794922\n",
      "40.804195404052734\n",
      "37.05940246582031\n"
     ]
    },
    {
     "name": "stdout",
     "output_type": "stream",
     "text": [
      "47.15015411376953\n",
      "51.87633514404297\n",
      "35.54065704345703\n",
      "51.967010498046875\n",
      "47.527732849121094\n",
      "36.979312896728516\n",
      "48.943748474121094\n",
      "27.267074584960938\n",
      "50.102176666259766\n",
      "52.740745544433594\n",
      "30.044422149658203\n",
      "26.495609283447266\n",
      "41.257381439208984\n",
      "50.839481353759766\n",
      "43.66426467895508\n",
      "29.14806365966797\n",
      "51.973609924316406\n",
      "47.756805419921875\n",
      "48.5820198059082\n",
      "52.27628707885742\n",
      "44.72085952758789\n",
      "52.48838424682617\n",
      "47.8056526184082\n",
      "27.157325744628906\n",
      "43.05025100708008\n",
      "37.6518440246582\n",
      "31.68111801147461\n",
      "52.28546142578125\n",
      "31.214561462402344\n",
      "47.960872650146484\n",
      "52.8441047668457\n",
      "42.718238830566406\n",
      "45.18522262573242\n",
      "36.057491302490234\n",
      "45.351295471191406\n",
      "51.82756423950195\n",
      "30.03143310546875\n",
      "51.391944885253906\n",
      "28.52874755859375\n",
      "38.427677154541016\n",
      "51.38334274291992\n",
      "39.187965393066406\n",
      "29.04590606689453\n",
      "49.435157775878906\n",
      "25.761375427246094\n",
      "52.9058837890625\n",
      "50.8909797668457\n",
      "50.448570251464844\n",
      "33.85795593261719\n",
      "24.560775756835938\n",
      "35.10286331176758\n",
      "41.79464340209961\n",
      "26.419944763183594\n",
      "41.533260345458984\n",
      "50.06887435913086\n",
      "32.99955368041992\n",
      "25.52968978881836\n",
      "52.982730865478516\n",
      "31.480464935302734\n",
      "29.48291778564453\n",
      "35.737361907958984\n",
      "51.23262405395508\n",
      "47.55281448364258\n",
      "35.34313201904297\n",
      "48.98141860961914\n",
      "28.613033294677734\n",
      "47.1776008605957\n",
      "34.02414321899414\n",
      "51.03250503540039\n",
      "51.57121658325195\n",
      "31.475162506103516\n",
      "28.12509536743164\n",
      "34.265384674072266\n",
      "37.4500846862793\n",
      "33.59661102294922\n",
      "50.174922943115234\n",
      "26.151771545410156\n",
      "32.650909423828125\n",
      "36.59780502319336\n",
      "38.66342544555664\n",
      "49.88554000854492\n",
      "38.25510025024414\n",
      "42.140045166015625\n",
      "51.375083923339844\n",
      "43.72312545776367\n",
      "51.012611389160156\n",
      "40.65742492675781\n",
      "35.23368835449219\n",
      "28.357067108154297\n",
      "38.61480712890625\n",
      "49.97690200805664\n",
      "41.2877082824707\n",
      "42.722511291503906\n",
      "30.382919311523438\n",
      "26.688613891601562\n",
      "52.700653076171875\n",
      "31.354084014892578\n",
      "46.21931076049805\n",
      "39.04989242553711\n",
      "49.2024040222168\n",
      "47.90477752685547\n",
      "46.739158630371094\n",
      "47.99398422241211\n",
      "44.83663558959961\n",
      "41.99623107910156\n",
      "47.96186447143555\n",
      "49.2564582824707\n",
      "31.09851837158203\n",
      "48.565521240234375\n",
      "47.90864944458008\n",
      "48.61564636230469\n",
      "37.118072509765625\n",
      "50.55299758911133\n",
      "36.28612518310547\n",
      "32.08747863769531\n",
      "28.778762817382812\n",
      "46.98442459106445\n",
      "42.607669830322266\n",
      "53.178672790527344\n",
      "43.645267486572266\n",
      "38.16267013549805\n",
      "37.8632926940918\n",
      "32.25419998168945\n",
      "52.1577262878418\n",
      "50.46663284301758\n",
      "28.192272186279297\n",
      "47.952823638916016\n",
      "51.71255111694336\n",
      "31.48611068725586\n",
      "47.50410079956055\n",
      "51.32966995239258\n",
      "48.29111099243164\n",
      "26.579246520996094\n",
      "48.897857666015625\n",
      "30.22420883178711\n",
      "49.16749954223633\n",
      "51.548404693603516\n",
      "50.323848724365234\n",
      "49.57956314086914\n",
      "52.801055908203125\n",
      "40.66267013549805\n",
      "29.036941528320312\n",
      "47.13907241821289\n",
      "42.33695983886719\n",
      "49.28312301635742\n",
      "37.25309371948242\n",
      "51.6986083984375\n",
      "34.62850570678711\n",
      "47.37018585205078\n",
      "49.20387268066406\n",
      "47.606201171875\n",
      "38.655033111572266\n",
      "50.580291748046875\n",
      "39.14417266845703\n",
      "43.57868194580078\n",
      "36.61031723022461\n",
      "40.99250793457031\n",
      "46.23159408569336\n",
      "46.78058624267578\n",
      "52.8700065612793\n",
      "51.328277587890625\n",
      "49.938621520996094\n",
      "52.21672058105469\n",
      "52.46065139770508\n",
      "39.718170166015625\n",
      "51.79609298706055\n",
      "53.18611145019531\n",
      "51.67783737182617\n",
      "47.473201751708984\n",
      "32.08486557006836\n",
      "48.04300308227539\n",
      "38.44289779663086\n",
      "50.759620666503906\n",
      "31.174373626708984\n",
      "39.79238510131836\n",
      "27.66925811767578\n",
      "41.749267578125\n",
      "27.818756103515625\n",
      "47.19158172607422\n",
      "52.792415618896484\n",
      "43.73270034790039\n",
      "29.55698013305664\n",
      "48.90796661376953\n",
      "27.084674835205078\n",
      "31.28368377685547\n",
      "36.999168395996094\n",
      "52.46755599975586\n",
      "49.90642547607422\n",
      "32.10521697998047\n",
      "51.92850112915039\n",
      "31.778202056884766\n",
      "41.64878845214844\n",
      "27.953109741210938\n",
      "48.965816497802734\n",
      "39.69179153442383\n",
      "28.269977569580078\n",
      "42.08211898803711\n",
      "37.72287368774414\n",
      "37.892093658447266\n",
      "41.94620132446289\n",
      "41.914825439453125\n",
      "34.60134506225586\n",
      "30.187950134277344\n",
      "42.88860321044922\n",
      "52.801570892333984\n",
      "35.73112487792969\n",
      "24.62503433227539\n",
      "52.82920837402344\n",
      "49.501190185546875\n",
      "52.401390075683594\n",
      "52.02598571777344\n",
      "28.988933563232422\n",
      "47.528629302978516\n",
      "52.739009857177734\n",
      "47.70742416381836\n",
      "49.917545318603516\n",
      "31.37134552001953\n",
      "50.91463088989258\n",
      "29.765033721923828\n",
      "39.554595947265625\n",
      "52.74545669555664\n",
      "50.97917556762695\n",
      "51.94929122924805\n",
      "52.51924514770508\n",
      "53.07462692260742\n",
      "42.995967864990234\n",
      "44.334716796875\n",
      "51.56879425048828\n",
      "46.20594024658203\n",
      "45.70394515991211\n",
      "48.03028106689453\n",
      "50.765342712402344\n",
      "26.764907836914062\n",
      "47.64202117919922\n",
      "30.904273986816406\n",
      "41.815223693847656\n",
      "44.260902404785156\n",
      "35.03273010253906\n",
      "47.924346923828125\n",
      "49.21125411987305\n",
      "28.247222900390625\n",
      "33.74940872192383\n",
      "31.153125762939453\n",
      "40.244693756103516\n",
      "27.157878875732422\n",
      "52.32463836669922\n",
      "49.35386657714844\n",
      "48.15286636352539\n",
      "52.342529296875\n",
      "46.8787956237793\n",
      "29.268455505371094\n",
      "32.334346771240234\n",
      "33.801002502441406\n",
      "52.851200103759766\n",
      "50.81193923950195\n",
      "50.6910514831543\n",
      "39.73886489868164\n",
      "32.60282516479492\n",
      "34.642581939697266\n",
      "50.10587692260742\n",
      "52.705841064453125\n",
      "47.81932830810547\n",
      "37.50816345214844\n",
      "51.2858772277832\n",
      "45.196685791015625\n",
      "49.424095153808594\n",
      "43.294429779052734\n",
      "47.87233352661133\n",
      "38.498878479003906\n",
      "45.21522521972656\n",
      "50.349674224853516\n",
      "50.571956634521484\n",
      "30.409088134765625\n",
      "48.969688415527344\n",
      "37.630958557128906\n",
      "48.07218551635742\n",
      "50.68716049194336\n",
      "52.99263000488281\n",
      "31.121749877929688\n",
      "27.613449096679688\n",
      "49.90377426147461\n",
      "36.222496032714844\n",
      "39.389991760253906\n",
      "35.45745849609375\n",
      "38.13638687133789\n",
      "37.452144622802734\n",
      "35.167198181152344\n",
      "44.34553146362305\n",
      "48.975887298583984\n",
      "43.5736083984375\n",
      "52.494773864746094\n",
      "27.59246826171875\n",
      "51.93113327026367\n",
      "50.549373626708984\n",
      "25.312042236328125\n",
      "52.890167236328125\n",
      "47.457275390625\n",
      "52.549381256103516\n",
      "35.60436248779297\n",
      "35.587730407714844\n",
      "52.36757278442383\n",
      "31.10809326171875\n",
      "32.42189407348633\n",
      "40.229034423828125\n",
      "51.71342849731445\n",
      "34.62430953979492\n",
      "53.077049255371094\n",
      "32.56481170654297\n",
      "29.452972412109375\n",
      "52.8242301940918\n",
      "29.705982208251953\n",
      "27.674236297607422\n",
      "44.725189208984375\n",
      "47.83885955810547\n",
      "32.20945358276367\n",
      "36.933135986328125\n",
      "49.04520034790039\n",
      "47.82682418823242\n",
      "42.322235107421875\n",
      "52.49032974243164\n",
      "34.48801040649414\n",
      "28.31533432006836\n",
      "47.87799835205078\n",
      "51.62376403808594\n",
      "39.539756774902344\n",
      "45.70981979370117\n",
      "34.58305358886719\n",
      "50.1072883605957\n",
      "29.20583724975586\n",
      "42.79115676879883\n",
      "38.92112731933594\n",
      "32.97294616699219\n",
      "51.466941833496094\n",
      "52.69824981689453\n",
      "39.60582733154297\n",
      "35.31049728393555\n",
      "33.36780548095703\n",
      "48.11840057373047\n",
      "47.9132080078125\n",
      "43.110008239746094\n",
      "35.353431701660156\n",
      "47.87080764770508\n",
      "46.91011428833008\n",
      "32.913360595703125\n",
      "38.25944900512695\n",
      "50.706787109375\n",
      "27.67375946044922\n",
      "50.103111267089844\n",
      "34.47103500366211\n"
     ]
    }
   ],
   "source": [
    "import numpy as np\n",
    "import tensorflow as tf\n",
    "from tensorflow.keras.models import load_model \n",
    "import os \n",
    "from scipy import ndimage\n",
    "g = os.walk(r'E:\\NTNU1-2\\Nyx\\NyxDataSet\\NyxDataSet128_128_128')  #每次記得要改\n",
    "rmse_percentage_collect = []\n",
    "disPoint_collect = []\n",
    "realdata_collect = []\n",
    "fakedata_collect = []\n",
    "from generator import generator\n",
    "#from discriminator import discriminator\n",
    "model = generator()\n",
    "\n",
    "#model = discriminator()\n",
    "model.load_weights(r\"E:\\NTNU1-2\\Nyx\\NyxDataSet\\wgan\\2020-8-29_9-41\\gen\" + \"\\\\trained_ckpt\")\n",
    "#model = load_model(r'E:\\NTNU1-2\\Nyx\\NyxDataSet\\wgan\\2020-8-17_12-15\\run-0')   #每次記得要改\n",
    "\n",
    "for path,dir_list,file_list in g:  \n",
    "    for file_name in file_list:\n",
    "        tmp_data = np.fromfile(path+'\\\\'+file_name, dtype = 'float32').reshape(128, 128, 128)\n",
    "        #test = ndimage.zoom(tmp_data, (0.25,0.25,0.25))\n",
    "        #print(test.shape)\n",
    "        #tmp_data.tofile(f'Nyx-{file_list.index(file_name)}.bin')\n",
    "        realdata_collect.append(tmp_data)\n",
    "        inputs1 = tf.constant([np.float(file_name[5:12])])\n",
    "        inputs2 = tf.constant([np.float(file_name[13:20])])\n",
    "        inputs3 = tf.constant([np.float(file_name[21:28])])\n",
    "        predict = model.predict([inputs1, inputs2, inputs3]).reshape(128, 128, 128)\n",
    "        fakedata_collect.append(predict)\n",
    "        rmse = tf.sqrt(tf.reduce_mean((tmp_data - predict)**2)) / (tf.reduce_max(tmp_data) - tf.reduce_min(tmp_data))\n",
    "        l2 = tf.norm((tmp_data - predict)) \n",
    "        MSE = tf.reduce_mean((tmp_data - predict)**2)\n",
    "        dataRange = tf.reduce_max(tmp_data) - tf.reduce_min(tmp_data)\n",
    "        PSNR=20*np.log10(dataRange) - 10*np.log10(MSE)\n",
    "        Rsquard = 1- np.mean((tmp_data-predict)**2)/ tf.math.reduce_variance(tmp_data)\n",
    "        rmse_percentage = rmse * 100\n",
    "        #predict.tofile(f'NyxPredict-{file_list.index(file_name)}.bin')\n",
    "        print(PSNR)\n",
    "        #rmse_percentage_collect.append(rmse_percentage.numpy())\n",
    "        \n",
    "        \n",
    "#         predict = model.predict(tmp_data)\n",
    "#         print(predict)\n",
    "#         disPoint_collect.append(predict)\n",
    "        "
   ]
  },
  {
   "cell_type": "code",
   "execution_count": 6,
   "metadata": {},
   "outputs": [],
   "source": [
    "for i in range(len(fakedata_collect)):\n",
    "    fakedata_collect[i].tofile(r'E:\\NTNU1-2\\Nyx\\NyxDataSet\\wgan\\2020-8-22_20-12_64cube_0.12%\\predict' + f'\\\\64cubePredict-{i}.bin')"
   ]
  },
  {
   "cell_type": "code",
   "execution_count": 64,
   "metadata": {},
   "outputs": [],
   "source": [
    "d = np.array(disPoint_collect)\n",
    "d = d[700:]\n",
    "d = (d - np.min(d)) / (np.max(d) - np.min(d))\n",
    "\n",
    "d = d.reshape(d.shape[0], 1)\n",
    "\n",
    "d -= 1\n",
    "d = abs(d)"
   ]
  },
  {
   "cell_type": "code",
   "execution_count": 65,
   "metadata": {},
   "outputs": [
    {
     "data": {
      "text/plain": [
       "[<matplotlib.lines.Line2D at 0x262b7441448>]"
      ]
     },
     "execution_count": 65,
     "metadata": {},
     "output_type": "execute_result"
    },
    {
     "data": {
      "image/png": "[encoded data removed]",
      "text/plain": [
       "<Figure size 432x288 with 1 Axes>"
      ]
     },
     "metadata": {
      "needs_background": "light"
     },
     "output_type": "display_data"
    }
   ],
   "source": [
    "import matplotlib.pyplot as plt\n",
    "plt.plot(range(d.shape[0]), d)"
   ]
  },
  {
   "cell_type": "code",
   "execution_count": 61,
   "metadata": {},
   "outputs": [
    {
     "data": {
      "text/plain": [
       "(99, 16, 16, 16)"
      ]
     },
     "execution_count": 61,
     "metadata": {},
     "output_type": "execute_result"
    }
   ],
   "source": [
    "d = np.array(realdata_collect)\n",
    "d = d[700:]\n",
    "#d = (d - np.min(d)) / (np.max(d) - np.min(d))\n",
    "d = d.reshape(d.shape[0], 16,16,16)\n",
    "\n",
    "d.shape"
   ]
  },
  {
   "cell_type": "code",
   "execution_count": 58,
   "metadata": {},
   "outputs": [],
   "source": [
    "tmpp = []\n",
    "for i in range(d.shape[0]):\n",
    "    tmpp.append(tf.norm(d[i]))\n",
    "tmpp = np.array(tmpp)"
   ]
  },
  {
   "cell_type": "code",
   "execution_count": 59,
   "metadata": {},
   "outputs": [],
   "source": [
    "tmpp = (tmpp - np.min(tmpp)) / (np.max(tmpp) - np.min(tmpp))"
   ]
  },
  {
   "cell_type": "code",
   "execution_count": 60,
   "metadata": {
    "scrolled": true
   },
   "outputs": [
    {
     "data": {
      "text/plain": [
       "[<matplotlib.lines.Line2D at 0x262b76fefc8>]"
      ]
     },
     "execution_count": 60,
     "metadata": {},
     "output_type": "execute_result"
    },
    {
     "data": {
      "image/png": "[encoded data removed]",
      "text/plain": [
       "<Figure size 432x288 with 1 Axes>"
      ]
     },
     "metadata": {
      "needs_background": "light"
     },
     "output_type": "display_data"
    }
   ],
   "source": [
    "plt.plot(range(tmpp.shape[0]), tmpp)"
   ]
  },
  {
   "cell_type": "code",
   "execution_count": 6,
   "metadata": {},
   "outputs": [
    {
     "data": {
      "text/plain": [
       "1526911600.0"
      ]
     },
     "execution_count": 6,
     "metadata": {},
     "output_type": "execute_result"
    }
   ],
   "source": [
    "np.min(realdata_collect[0])"
   ]
  },
  {
   "cell_type": "code",
   "execution_count": 9,
   "metadata": {},
   "outputs": [
    {
     "data": {
      "text/plain": [
       "-0.017210735"
      ]
     },
     "execution_count": 9,
     "metadata": {},
     "output_type": "execute_result"
    }
   ],
   "source": [
    "np.min(fakedata_collect[0])"
   ]
  },
  {
   "cell_type": "code",
   "execution_count": 14,
   "metadata": {},
   "outputs": [
    {
     "data": {
      "text/plain": [
       "<tf.Tensor: shape=(3, 3, 3), dtype=float32, numpy=\n",
       "array([[[1., 2., 3.],\n",
       "        [4., 5., 6.],\n",
       "        [7., 8., 9.]],\n",
       "\n",
       "       [[1., 2., 3.],\n",
       "        [4., 5., 6.],\n",
       "        [7., 8., 9.]],\n",
       "\n",
       "       [[1., 2., 3.],\n",
       "        [4., 5., 6.],\n",
       "        [7., 8., 9.]]], dtype=float32)>"
      ]
     },
     "execution_count": 14,
     "metadata": {},
     "output_type": "execute_result"
    }
   ],
   "source": [
    "a = tf.constant([[[1,2,3], [4,5,6], [7,8,9]], [[1,2,3], [4,5,6], [7,8,9]], [[1,2,3], [4,5,6], [7,8,9]]], dtype=tf.float32)\n",
    "a"
   ]
  },
  {
   "cell_type": "code",
   "execution_count": 34,
   "metadata": {},
   "outputs": [
    {
     "data": {
      "text/plain": [
       "<tf.Tensor: shape=(), dtype=float32, numpy=15.992148>"
      ]
     },
     "execution_count": 34,
     "metadata": {},
     "output_type": "execute_result"
    }
   ],
   "source": [
    "tf.norm((fakedata_collect[3]-realdata_collect[3]))/(tf.reduce_max(realdata_collect[3]) - tf.reduce_min(realdata_collect[3]))"
   ]
  },
  {
   "cell_type": "code",
   "execution_count": 32,
   "metadata": {},
   "outputs": [
    {
     "data": {
      "text/plain": [
       "<tf.Tensor: shape=(), dtype=float32, numpy=4521518000.0>"
      ]
     },
     "execution_count": 32,
     "metadata": {},
     "output_type": "execute_result"
    }
   ],
   "source": [
    "tf.sqrt(tf.reduce_mean((fakedata_collect[3]-realdata_collect[3])**2))"
   ]
  },
  {
   "cell_type": "code",
   "execution_count": 38,
   "metadata": {},
   "outputs": [
    {
     "data": {
      "text/plain": [
       "<tf.Tensor: shape=(), dtype=float32, numpy=0.32025465>"
      ]
     },
     "execution_count": 38,
     "metadata": {},
     "output_type": "execute_result"
    }
   ],
   "source": [
    "(tf.norm((tf.constant(np.array(fakedata_collect))-tf.constant(np.array(realdata_collect)))) /799 ) / (tf.reduce_max(realdata_collect) - tf.reduce_min(realdata_collect))"
   ]
  },
  {
   "cell_type": "code",
   "execution_count": 28,
   "metadata": {},
   "outputs": [
    {
     "data": {
      "text/plain": [
       "<tf.Tensor: shape=(), dtype=float32, numpy=144759620000.0>"
      ]
     },
     "execution_count": 28,
     "metadata": {},
     "output_type": "execute_result"
    }
   ],
   "source": [
    "(tf.reduce_max(realdata_collect[3]) - tf.reduce_min(realdata_collect[3]))"
   ]
  },
  {
   "cell_type": "code",
   "execution_count": 29,
   "metadata": {},
   "outputs": [
    {
     "data": {
      "text/plain": [
       "<tf.Tensor: shape=(), dtype=float32, numpy=516430400.0>"
      ]
     },
     "execution_count": 29,
     "metadata": {},
     "output_type": "execute_result"
    }
   ],
   "source": [
    "tf.reduce_min(realdata_collect[3])"
   ]
  },
  {
   "cell_type": "code",
   "execution_count": 2,
   "metadata": {},
   "outputs": [],
   "source": [
    "import config\n",
    "import numpy as np \n",
    "import os\n",
    "import tensorflow as tf\n",
    "from shutil import copyfile\n",
    "def generateData(dataSetConfig):\n",
    "    \n",
    "    dataType = {'float': [4, tf.float32]}\n",
    "    filename = os.listdir(dataSetConfig['dataSetDir'])\n",
    "\n",
    "\n",
    "\n",
    "    parameter1 = tf.data.Dataset.from_tensor_slices(np.array([np.float(file[5:12]) for file in filename], dtype=np.float32).reshape((len(filename), 1)))\n",
    "    parameter2 = tf.data.Dataset.from_tensor_slices(np.array([np.float(file[13:20]) for file in filename], dtype=np.float32).reshape((len(filename), 1)))\n",
    "    parameter3 = tf.data.Dataset.from_tensor_slices(np.array([np.float(file[21:28]) for file in filename], dtype=np.float32).reshape((len(filename), 1)))\n",
    "    parameter123 = tf.data.Dataset.zip((parameter1, parameter2, parameter3))\n",
    "\n",
    "    filename_list = [os.path.join(dataSetConfig['dataSetDir'], file) for file in filename]\n",
    "    file_queue = tf.data.Dataset.from_tensor_slices(filename_list)\n",
    "    data = tf.data.FixedLengthRecordDataset(file_queue, dataSetConfig['width']*dataSetConfig['length']*dataSetConfig['height']*dataType[dataSetConfig['dataType']][0])\n",
    "    \n",
    "    def process_input_data(ds):\n",
    "        ds = tf.io.decode_raw(ds, dataType[dataSetConfig['dataType']][1])\n",
    "        ds = tf.reshape(ds, [dataSetConfig['width'], dataSetConfig['length'], dataSetConfig['height'], 1]) \n",
    "        #mean = tf.reduce_mean(ds)\n",
    "        #std = tf.math.reduce_std(ds)      \n",
    "        return ds#(ds-mean)/std\n",
    "        \n",
    "    AUTOTUNE = tf.data.experimental.AUTOTUNE\n",
    "    data = data.map(process_input_data, num_parallel_calls=AUTOTUNE)\n",
    "    data = tf.data.Dataset.zip((parameter123, data))\n",
    "    #data = data.shuffle(800, reshuffle_each_iteration=True)\n",
    "    train_data = data.take(dataSetConfig['trainSize'])\n",
    "    training = train_data.take(dataSetConfig['trainSize'])\n",
    "    #training = training.shuffle(dataSetConfig['trainSize'], reshuffle_each_iteration=True)\n",
    "    validating = train_data.skip(dataSetConfig['trainSize'] - dataSetConfig['validationSize'])\n",
    "    #test_data = data.skip(dataSetConfig['trainSize'])\n",
    "    \n",
    "\n",
    "    training_batch = training.batch(dataSetConfig['batchSize'], drop_remainder = True)\n",
    "    validating_batch = validating.batch(dataSetConfig['validationSize'], drop_remainder = True)\n",
    "    validating_batch = validating_batch.prefetch(buffer_size = AUTOTUNE)\n",
    "    #test_data_batch = test_data.batch(100, drop_remainder = True)\n",
    "    training_batch = training_batch.prefetch(buffer_size = AUTOTUNE)\n",
    "    return training_batch,validating_batch#, test_data_batch"
   ]
  },
  {
   "cell_type": "code",
   "execution_count": 4,
   "metadata": {},
   "outputs": [],
   "source": [
    "Nyx={\n",
    "'dataSet' : 'Nyx',\n",
    "'epochs' : 5000,\n",
    "'datasize' : 799,\n",
    "'trainSize' : 699,\n",
    "'validationSize': 59, \n",
    "'testSize' : 100,\n",
    "'batchSize' : 4,\n",
    "'length' : 128,\n",
    "'width' : 128,\n",
    "'height' : 128,\n",
    "'dataType' : 'float',\n",
    "'numberOfParameter' : 3,\n",
    "'numberOfParameterDigit' : 7,\n",
    "'stopConsecutiveEpoch' : 100,\n",
    "'dataSetDir' : r'E:\\NTNU1-2\\Nyx\\NyxDataSet\\NyxDataSet128_128_128',\n",
    "#'startingTime' : startingTime,\n",
    "#'logDir' : 'E:\\\\NTNU1-2\\\\Nyx\\\\NyxDataSet\\\\wgan\\\\' + startingDate + '\\\\'\n",
    "}"
   ]
  },
  {
   "cell_type": "code",
   "execution_count": 6,
   "metadata": {},
   "outputs": [],
   "source": [
    "T, V = generateData(Nyx)"
   ]
  },
  {
   "cell_type": "code",
   "execution_count": 2,
   "metadata": {},
   "outputs": [],
   "source": [
    "for i in range(len(fakedata_collect)):\n",
    "    fakedata_collect[i].tofile(f'NyxFake128cube-{i}.bin')"
   ]
  },
  {
   "cell_type": "code",
   "execution_count": 2,
   "metadata": {},
   "outputs": [],
   "source": [
    "def get_model_memory_usage(batch_size, model):\n",
    "    import numpy as np\n",
    "    try:\n",
    "        from keras import backend as K\n",
    "    except:\n",
    "        from tensorflow.keras import backend as K\n",
    "\n",
    "    shapes_mem_count = 0\n",
    "    internal_model_mem_count = 0\n",
    "    for l in model.layers:\n",
    "        layer_type = l.__class__.__name__\n",
    "        if layer_type == 'Model':\n",
    "            internal_model_mem_count += get_model_memory_usage(batch_size, l)\n",
    "        single_layer_mem = 1\n",
    "        out_shape = l.output_shape\n",
    "        if type(out_shape) is list:\n",
    "            out_shape = out_shape[0]\n",
    "        for s in out_shape:\n",
    "            if s is None:\n",
    "                continue\n",
    "            single_layer_mem *= s\n",
    "        shapes_mem_count += single_layer_mem\n",
    "\n",
    "    trainable_count = np.sum([K.count_params(p) for p in model.trainable_weights])\n",
    "    non_trainable_count = np.sum([K.count_params(p) for p in model.non_trainable_weights])\n",
    "\n",
    "    number_size = 4.0\n",
    "    if K.floatx() == 'float16':\n",
    "        number_size = 2.0\n",
    "    if K.floatx() == 'float64':\n",
    "        number_size = 8.0\n",
    "\n",
    "    total_memory = number_size * (batch_size * shapes_mem_count + trainable_count + non_trainable_count)\n",
    "    gbytes = np.round(total_memory / (1024.0 ** 3), 3) + internal_model_mem_count\n",
    "    return gbytes"
   ]
  },
  {
   "cell_type": "code",
   "execution_count": 5,
   "metadata": {},
   "outputs": [
    {
     "ename": "AttributeError",
     "evalue": "The layer has never been called and thus has no defined output shape.",
     "output_type": "error",
     "traceback": [
      "\u001b[1;31m---------------------------------------------------------------------------\u001b[0m",
      "\u001b[1;31mAttributeError\u001b[0m                            Traceback (most recent call last)",
      "\u001b[1;32m<ipython-input-5-c7baa54e1083>\u001b[0m in \u001b[0;36m<module>\u001b[1;34m\u001b[0m\n\u001b[1;32m----> 1\u001b[1;33m \u001b[0mget_model_memory_usage\u001b[0m\u001b[1;33m(\u001b[0m\u001b[1;36m1\u001b[0m\u001b[1;33m,\u001b[0m \u001b[0mmodel\u001b[0m\u001b[1;33m)\u001b[0m\u001b[1;33m\u001b[0m\u001b[1;33m\u001b[0m\u001b[0m\n\u001b[0m",
      "\u001b[1;32m<ipython-input-2-fabd59ef87fa>\u001b[0m in \u001b[0;36mget_model_memory_usage\u001b[1;34m(batch_size, model)\u001b[0m\n\u001b[0;32m     13\u001b[0m             \u001b[0minternal_model_mem_count\u001b[0m \u001b[1;33m+=\u001b[0m \u001b[0mget_model_memory_usage\u001b[0m\u001b[1;33m(\u001b[0m\u001b[0mbatch_size\u001b[0m\u001b[1;33m,\u001b[0m \u001b[0ml\u001b[0m\u001b[1;33m)\u001b[0m\u001b[1;33m\u001b[0m\u001b[1;33m\u001b[0m\u001b[0m\n\u001b[0;32m     14\u001b[0m         \u001b[0msingle_layer_mem\u001b[0m \u001b[1;33m=\u001b[0m \u001b[1;36m1\u001b[0m\u001b[1;33m\u001b[0m\u001b[1;33m\u001b[0m\u001b[0m\n\u001b[1;32m---> 15\u001b[1;33m         \u001b[0mout_shape\u001b[0m \u001b[1;33m=\u001b[0m \u001b[0ml\u001b[0m\u001b[1;33m.\u001b[0m\u001b[0moutput_shape\u001b[0m\u001b[1;33m\u001b[0m\u001b[1;33m\u001b[0m\u001b[0m\n\u001b[0m\u001b[0;32m     16\u001b[0m         \u001b[1;32mif\u001b[0m \u001b[0mtype\u001b[0m\u001b[1;33m(\u001b[0m\u001b[0mout_shape\u001b[0m\u001b[1;33m)\u001b[0m \u001b[1;32mis\u001b[0m \u001b[0mlist\u001b[0m\u001b[1;33m:\u001b[0m\u001b[1;33m\u001b[0m\u001b[1;33m\u001b[0m\u001b[0m\n\u001b[0;32m     17\u001b[0m             \u001b[0mout_shape\u001b[0m \u001b[1;33m=\u001b[0m \u001b[0mout_shape\u001b[0m\u001b[1;33m[\u001b[0m\u001b[1;36m0\u001b[0m\u001b[1;33m]\u001b[0m\u001b[1;33m\u001b[0m\u001b[1;33m\u001b[0m\u001b[0m\n",
      "\u001b[1;32m~\\Anaconda3\\envs\\2.1.0-gpu\\lib\\site-packages\\tensorflow_core\\python\\keras\\engine\\base_layer.py\u001b[0m in \u001b[0;36moutput_shape\u001b[1;34m(self)\u001b[0m\n\u001b[0;32m   1623\u001b[0m     \"\"\"\n\u001b[0;32m   1624\u001b[0m     \u001b[1;32mif\u001b[0m \u001b[1;32mnot\u001b[0m \u001b[0mself\u001b[0m\u001b[1;33m.\u001b[0m\u001b[0m_inbound_nodes\u001b[0m\u001b[1;33m:\u001b[0m\u001b[1;33m\u001b[0m\u001b[1;33m\u001b[0m\u001b[0m\n\u001b[1;32m-> 1625\u001b[1;33m       raise AttributeError('The layer has never been called '\n\u001b[0m\u001b[0;32m   1626\u001b[0m                            'and thus has no defined output shape.')\n\u001b[0;32m   1627\u001b[0m     all_output_shapes = set(\n",
      "\u001b[1;31mAttributeError\u001b[0m: The layer has never been called and thus has no defined output shape."
     ]
    }
   ],
   "source": [
    "get_model_memory_usage(1, model)"
   ]
  },
  {
   "cell_type": "code",
   "execution_count": 10,
   "metadata": {},
   "outputs": [
    {
     "data": {
      "text/plain": [
       "[<tensorflow.python.keras.layers.core.Dense at 0x19421cfeb08>,\n",
       " <tensorflow.python.keras.layers.advanced_activations.LeakyReLU at 0x19421cfe788>,\n",
       " <tensorflow.python.keras.layers.core.Dense at 0x19421cfe088>,\n",
       " <tensorflow.python.keras.layers.advanced_activations.LeakyReLU at 0x19421cfaec8>,\n",
       " <tensorflow.python.keras.layers.core.Dense at 0x19421cfa8c8>,\n",
       " <tensorflow.python.keras.layers.advanced_activations.LeakyReLU at 0x19421cfa248>,\n",
       " <tensorflow.python.keras.layers.core.Dense at 0x19421cc38c8>,\n",
       " <tensorflow.python.keras.layers.advanced_activations.LeakyReLU at 0x19421cc3308>,\n",
       " <tensorflow.python.keras.layers.core.Dense at 0x19421cd15c8>,\n",
       " <tensorflow.python.keras.layers.advanced_activations.LeakyReLU at 0x19421cd12c8>,\n",
       " <tensorflow.python.keras.layers.core.Dense at 0x19421cc4988>,\n",
       " <tensorflow.python.keras.layers.advanced_activations.LeakyReLU at 0x19421c215c8>,\n",
       " <tensorflow.python.keras.layers.core.Dense at 0x19421cb1988>,\n",
       " <tensorflow.python.keras.layers.advanced_activations.LeakyReLU at 0x19421cb1c88>,\n",
       " <tensorflow.python.keras.layers.core.Dense at 0x19421cb9788>,\n",
       " <tensorflow.python.keras.layers.advanced_activations.LeakyReLU at 0x19421cb94c8>,\n",
       " <tensorflow.python.keras.layers.core.Dense at 0x19421cb9088>,\n",
       " <tensorflow.python.keras.layers.advanced_activations.LeakyReLU at 0x19421aacb88>,\n",
       " <tensorflow.python.keras.layers.core.Dense at 0x19421aac988>,\n",
       " <resblock.ResBlock_generator at 0x194779d84c8>,\n",
       " <resblock.ResBlock_generator at 0x19421d08908>,\n",
       " <resblock.ResBlock_generator at 0x19421d08388>,\n",
       " <resblock.ResBlock_generator at 0x19421d08e08>,\n",
       " <resblock.ResBlock_generator at 0x19421cf12c8>,\n",
       " <tensorflow.python.keras.layers.convolutional.Conv3D at 0x19421cf1788>]"
      ]
     },
     "execution_count": 10,
     "metadata": {},
     "output_type": "execute_result"
    }
   ],
   "source": [
    "model.layers"
   ]
  },
  {
   "cell_type": "code",
   "execution_count": 11,
   "metadata": {},
   "outputs": [
    {
     "ename": "AttributeError",
     "evalue": "The layer has never been called and thus has no defined output shape.",
     "output_type": "error",
     "traceback": [
      "\u001b[1;31m---------------------------------------------------------------------------\u001b[0m",
      "\u001b[1;31mAttributeError\u001b[0m                            Traceback (most recent call last)",
      "\u001b[1;32m<ipython-input-11-c63382b843f9>\u001b[0m in \u001b[0;36m<module>\u001b[1;34m\u001b[0m\n\u001b[0;32m      1\u001b[0m \u001b[1;32mfor\u001b[0m \u001b[0ml\u001b[0m \u001b[1;32min\u001b[0m \u001b[0mmodel\u001b[0m\u001b[1;33m.\u001b[0m\u001b[0mlayers\u001b[0m\u001b[1;33m:\u001b[0m\u001b[1;33m\u001b[0m\u001b[1;33m\u001b[0m\u001b[0m\n\u001b[0;32m      2\u001b[0m     \u001b[0mlayer_type\u001b[0m \u001b[1;33m=\u001b[0m \u001b[0ml\u001b[0m\u001b[1;33m.\u001b[0m\u001b[0m__class__\u001b[0m\u001b[1;33m.\u001b[0m\u001b[0m__name__\u001b[0m\u001b[1;33m\u001b[0m\u001b[1;33m\u001b[0m\u001b[0m\n\u001b[1;32m----> 3\u001b[1;33m     \u001b[0mprint\u001b[0m\u001b[1;33m(\u001b[0m\u001b[0ml\u001b[0m\u001b[1;33m.\u001b[0m\u001b[0moutput_shape\u001b[0m\u001b[1;33m)\u001b[0m\u001b[1;33m\u001b[0m\u001b[1;33m\u001b[0m\u001b[0m\n\u001b[0m",
      "\u001b[1;32m~\\Anaconda3\\envs\\2.1.0-gpu\\lib\\site-packages\\tensorflow_core\\python\\keras\\engine\\base_layer.py\u001b[0m in \u001b[0;36moutput_shape\u001b[1;34m(self)\u001b[0m\n\u001b[0;32m   1623\u001b[0m     \"\"\"\n\u001b[0;32m   1624\u001b[0m     \u001b[1;32mif\u001b[0m \u001b[1;32mnot\u001b[0m \u001b[0mself\u001b[0m\u001b[1;33m.\u001b[0m\u001b[0m_inbound_nodes\u001b[0m\u001b[1;33m:\u001b[0m\u001b[1;33m\u001b[0m\u001b[1;33m\u001b[0m\u001b[0m\n\u001b[1;32m-> 1625\u001b[1;33m       raise AttributeError('The layer has never been called '\n\u001b[0m\u001b[0;32m   1626\u001b[0m                            'and thus has no defined output shape.')\n\u001b[0;32m   1627\u001b[0m     all_output_shapes = set(\n",
      "\u001b[1;31mAttributeError\u001b[0m: The layer has never been called and thus has no defined output shape."
     ]
    }
   ],
   "source": [
    "for l in model.layers:\n",
    "    layer_type = l.__class__.__name__\n",
    "    print(l.output_shape)"
   ]
  },
  {
   "cell_type": "code",
   "execution_count": 35,
   "metadata": {},
   "outputs": [
    {
     "name": "stdout",
     "output_type": "stream",
     "text": [
      "Train on 1 samples\n",
      "\r",
      "1/1 [==============================] - 0s 100ms/sample\n"
     ]
    },
    {
     "ename": "IndexError",
     "evalue": "list index out of range",
     "output_type": "error",
     "traceback": [
      "\u001b[1;31m---------------------------------------------------------------------------\u001b[0m",
      "\u001b[1;31mIndexError\u001b[0m                                Traceback (most recent call last)",
      "\u001b[1;32m<ipython-input-35-1cc543b9b9bd>\u001b[0m in \u001b[0;36m<module>\u001b[1;34m\u001b[0m\n\u001b[1;32m----> 1\u001b[1;33m \u001b[0ma\u001b[0m \u001b[1;33m=\u001b[0m \u001b[0mmodel\u001b[0m\u001b[1;33m.\u001b[0m\u001b[0mfit\u001b[0m\u001b[1;33m(\u001b[0m\u001b[1;33m[\u001b[0m\u001b[0mtf\u001b[0m\u001b[1;33m.\u001b[0m\u001b[0mconstant\u001b[0m\u001b[1;33m(\u001b[0m\u001b[1;33m[\u001b[0m\u001b[1;36m1\u001b[0m\u001b[1;33m]\u001b[0m\u001b[1;33m)\u001b[0m\u001b[1;33m,\u001b[0m \u001b[0mtf\u001b[0m\u001b[1;33m.\u001b[0m\u001b[0mconstant\u001b[0m\u001b[1;33m(\u001b[0m\u001b[1;33m[\u001b[0m\u001b[1;36m1\u001b[0m\u001b[1;33m]\u001b[0m\u001b[1;33m)\u001b[0m\u001b[1;33m,\u001b[0m \u001b[0mtf\u001b[0m\u001b[1;33m.\u001b[0m\u001b[0mconstant\u001b[0m\u001b[1;33m(\u001b[0m\u001b[1;33m[\u001b[0m\u001b[1;36m1\u001b[0m\u001b[1;33m]\u001b[0m\u001b[1;33m)\u001b[0m\u001b[1;33m]\u001b[0m\u001b[1;33m)\u001b[0m\u001b[1;33m\u001b[0m\u001b[1;33m\u001b[0m\u001b[0m\n\u001b[0m",
      "\u001b[1;32m~\\Anaconda3\\envs\\2.1.0-gpu\\lib\\site-packages\\tensorflow_core\\python\\keras\\engine\\training.py\u001b[0m in \u001b[0;36mfit\u001b[1;34m(self, x, y, batch_size, epochs, verbose, callbacks, validation_split, validation_data, shuffle, class_weight, sample_weight, initial_epoch, steps_per_epoch, validation_steps, validation_freq, max_queue_size, workers, use_multiprocessing, **kwargs)\u001b[0m\n\u001b[0;32m    817\u001b[0m         \u001b[0mmax_queue_size\u001b[0m\u001b[1;33m=\u001b[0m\u001b[0mmax_queue_size\u001b[0m\u001b[1;33m,\u001b[0m\u001b[1;33m\u001b[0m\u001b[1;33m\u001b[0m\u001b[0m\n\u001b[0;32m    818\u001b[0m         \u001b[0mworkers\u001b[0m\u001b[1;33m=\u001b[0m\u001b[0mworkers\u001b[0m\u001b[1;33m,\u001b[0m\u001b[1;33m\u001b[0m\u001b[1;33m\u001b[0m\u001b[0m\n\u001b[1;32m--> 819\u001b[1;33m         use_multiprocessing=use_multiprocessing)\n\u001b[0m\u001b[0;32m    820\u001b[0m \u001b[1;33m\u001b[0m\u001b[0m\n\u001b[0;32m    821\u001b[0m   def evaluate(self,\n",
      "\u001b[1;32m~\\Anaconda3\\envs\\2.1.0-gpu\\lib\\site-packages\\tensorflow_core\\python\\keras\\engine\\training_v2.py\u001b[0m in \u001b[0;36mfit\u001b[1;34m(self, model, x, y, batch_size, epochs, verbose, callbacks, validation_split, validation_data, shuffle, class_weight, sample_weight, initial_epoch, steps_per_epoch, validation_steps, validation_freq, max_queue_size, workers, use_multiprocessing, **kwargs)\u001b[0m\n\u001b[0;32m    340\u001b[0m                 \u001b[0mmode\u001b[0m\u001b[1;33m=\u001b[0m\u001b[0mModeKeys\u001b[0m\u001b[1;33m.\u001b[0m\u001b[0mTRAIN\u001b[0m\u001b[1;33m,\u001b[0m\u001b[1;33m\u001b[0m\u001b[1;33m\u001b[0m\u001b[0m\n\u001b[0;32m    341\u001b[0m                 \u001b[0mtraining_context\u001b[0m\u001b[1;33m=\u001b[0m\u001b[0mtraining_context\u001b[0m\u001b[1;33m,\u001b[0m\u001b[1;33m\u001b[0m\u001b[1;33m\u001b[0m\u001b[0m\n\u001b[1;32m--> 342\u001b[1;33m                 total_epochs=epochs)\n\u001b[0m\u001b[0;32m    343\u001b[0m             \u001b[0mcbks\u001b[0m\u001b[1;33m.\u001b[0m\u001b[0mmake_logs\u001b[0m\u001b[1;33m(\u001b[0m\u001b[0mmodel\u001b[0m\u001b[1;33m,\u001b[0m \u001b[0mepoch_logs\u001b[0m\u001b[1;33m,\u001b[0m \u001b[0mtraining_result\u001b[0m\u001b[1;33m,\u001b[0m \u001b[0mModeKeys\u001b[0m\u001b[1;33m.\u001b[0m\u001b[0mTRAIN\u001b[0m\u001b[1;33m)\u001b[0m\u001b[1;33m\u001b[0m\u001b[1;33m\u001b[0m\u001b[0m\n\u001b[0;32m    344\u001b[0m \u001b[1;33m\u001b[0m\u001b[0m\n",
      "\u001b[1;32m~\\Anaconda3\\envs\\2.1.0-gpu\\lib\\site-packages\\tensorflow_core\\python\\keras\\engine\\training_v2.py\u001b[0m in \u001b[0;36mrun_one_epoch\u001b[1;34m(model, iterator, execution_function, dataset_size, batch_size, strategy, steps_per_epoch, num_samples, mode, training_context, total_epochs)\u001b[0m\n\u001b[0;32m    126\u001b[0m         step=step, mode=mode, size=current_batch_size) as batch_logs:\n\u001b[0;32m    127\u001b[0m       \u001b[1;32mtry\u001b[0m\u001b[1;33m:\u001b[0m\u001b[1;33m\u001b[0m\u001b[1;33m\u001b[0m\u001b[0m\n\u001b[1;32m--> 128\u001b[1;33m         \u001b[0mbatch_outs\u001b[0m \u001b[1;33m=\u001b[0m \u001b[0mexecution_function\u001b[0m\u001b[1;33m(\u001b[0m\u001b[0miterator\u001b[0m\u001b[1;33m)\u001b[0m\u001b[1;33m\u001b[0m\u001b[1;33m\u001b[0m\u001b[0m\n\u001b[0m\u001b[0;32m    129\u001b[0m       \u001b[1;32mexcept\u001b[0m \u001b[1;33m(\u001b[0m\u001b[0mStopIteration\u001b[0m\u001b[1;33m,\u001b[0m \u001b[0merrors\u001b[0m\u001b[1;33m.\u001b[0m\u001b[0mOutOfRangeError\u001b[0m\u001b[1;33m)\u001b[0m\u001b[1;33m:\u001b[0m\u001b[1;33m\u001b[0m\u001b[1;33m\u001b[0m\u001b[0m\n\u001b[0;32m    130\u001b[0m         \u001b[1;31m# TODO(kaftan): File bug about tf function and errors.OutOfRangeError?\u001b[0m\u001b[1;33m\u001b[0m\u001b[1;33m\u001b[0m\u001b[1;33m\u001b[0m\u001b[0m\n",
      "\u001b[1;32m~\\Anaconda3\\envs\\2.1.0-gpu\\lib\\site-packages\\tensorflow_core\\python\\keras\\engine\\training_v2_utils.py\u001b[0m in \u001b[0;36mexecution_function\u001b[1;34m(input_fn)\u001b[0m\n\u001b[0;32m     96\u001b[0m     \u001b[1;31m# `numpy` translates Tensors to values in Eager mode.\u001b[0m\u001b[1;33m\u001b[0m\u001b[1;33m\u001b[0m\u001b[1;33m\u001b[0m\u001b[0m\n\u001b[0;32m     97\u001b[0m     return nest.map_structure(_non_none_constant_value,\n\u001b[1;32m---> 98\u001b[1;33m                               distributed_function(input_fn))\n\u001b[0m\u001b[0;32m     99\u001b[0m \u001b[1;33m\u001b[0m\u001b[0m\n\u001b[0;32m    100\u001b[0m   \u001b[1;32mreturn\u001b[0m \u001b[0mexecution_function\u001b[0m\u001b[1;33m\u001b[0m\u001b[1;33m\u001b[0m\u001b[0m\n",
      "\u001b[1;32m~\\Anaconda3\\envs\\2.1.0-gpu\\lib\\site-packages\\tensorflow_core\\python\\eager\\def_function.py\u001b[0m in \u001b[0;36m__call__\u001b[1;34m(self, *args, **kwds)\u001b[0m\n\u001b[0;32m    566\u001b[0m         \u001b[0mxla_context\u001b[0m\u001b[1;33m.\u001b[0m\u001b[0mExit\u001b[0m\u001b[1;33m(\u001b[0m\u001b[1;33m)\u001b[0m\u001b[1;33m\u001b[0m\u001b[1;33m\u001b[0m\u001b[0m\n\u001b[0;32m    567\u001b[0m     \u001b[1;32melse\u001b[0m\u001b[1;33m:\u001b[0m\u001b[1;33m\u001b[0m\u001b[1;33m\u001b[0m\u001b[0m\n\u001b[1;32m--> 568\u001b[1;33m       \u001b[0mresult\u001b[0m \u001b[1;33m=\u001b[0m \u001b[0mself\u001b[0m\u001b[1;33m.\u001b[0m\u001b[0m_call\u001b[0m\u001b[1;33m(\u001b[0m\u001b[1;33m*\u001b[0m\u001b[0margs\u001b[0m\u001b[1;33m,\u001b[0m \u001b[1;33m**\u001b[0m\u001b[0mkwds\u001b[0m\u001b[1;33m)\u001b[0m\u001b[1;33m\u001b[0m\u001b[1;33m\u001b[0m\u001b[0m\n\u001b[0m\u001b[0;32m    569\u001b[0m \u001b[1;33m\u001b[0m\u001b[0m\n\u001b[0;32m    570\u001b[0m     \u001b[1;32mif\u001b[0m \u001b[0mtracing_count\u001b[0m \u001b[1;33m==\u001b[0m \u001b[0mself\u001b[0m\u001b[1;33m.\u001b[0m\u001b[0m_get_tracing_count\u001b[0m\u001b[1;33m(\u001b[0m\u001b[1;33m)\u001b[0m\u001b[1;33m:\u001b[0m\u001b[1;33m\u001b[0m\u001b[1;33m\u001b[0m\u001b[0m\n",
      "\u001b[1;32m~\\Anaconda3\\envs\\2.1.0-gpu\\lib\\site-packages\\tensorflow_core\\python\\eager\\def_function.py\u001b[0m in \u001b[0;36m_call\u001b[1;34m(self, *args, **kwds)\u001b[0m\n\u001b[0;32m    604\u001b[0m       \u001b[1;31m# In this case we have not created variables on the first call. So we can\u001b[0m\u001b[1;33m\u001b[0m\u001b[1;33m\u001b[0m\u001b[1;33m\u001b[0m\u001b[0m\n\u001b[0;32m    605\u001b[0m       \u001b[1;31m# run the first trace but we should fail if variables are created.\u001b[0m\u001b[1;33m\u001b[0m\u001b[1;33m\u001b[0m\u001b[1;33m\u001b[0m\u001b[0m\n\u001b[1;32m--> 606\u001b[1;33m       \u001b[0mresults\u001b[0m \u001b[1;33m=\u001b[0m \u001b[0mself\u001b[0m\u001b[1;33m.\u001b[0m\u001b[0m_stateful_fn\u001b[0m\u001b[1;33m(\u001b[0m\u001b[1;33m*\u001b[0m\u001b[0margs\u001b[0m\u001b[1;33m,\u001b[0m \u001b[1;33m**\u001b[0m\u001b[0mkwds\u001b[0m\u001b[1;33m)\u001b[0m\u001b[1;33m\u001b[0m\u001b[1;33m\u001b[0m\u001b[0m\n\u001b[0m\u001b[0;32m    607\u001b[0m       \u001b[1;32mif\u001b[0m \u001b[0mself\u001b[0m\u001b[1;33m.\u001b[0m\u001b[0m_created_variables\u001b[0m\u001b[1;33m:\u001b[0m\u001b[1;33m\u001b[0m\u001b[1;33m\u001b[0m\u001b[0m\n\u001b[0;32m    608\u001b[0m         raise ValueError(\"Creating variables on a non-first call to a function\"\n",
      "\u001b[1;32m~\\Anaconda3\\envs\\2.1.0-gpu\\lib\\site-packages\\tensorflow_core\\python\\eager\\function.py\u001b[0m in \u001b[0;36m__call__\u001b[1;34m(self, *args, **kwargs)\u001b[0m\n\u001b[0;32m   2360\u001b[0m     \u001b[1;34m\"\"\"Calls a graph function specialized to the inputs.\"\"\"\u001b[0m\u001b[1;33m\u001b[0m\u001b[1;33m\u001b[0m\u001b[0m\n\u001b[0;32m   2361\u001b[0m     \u001b[1;32mwith\u001b[0m \u001b[0mself\u001b[0m\u001b[1;33m.\u001b[0m\u001b[0m_lock\u001b[0m\u001b[1;33m:\u001b[0m\u001b[1;33m\u001b[0m\u001b[1;33m\u001b[0m\u001b[0m\n\u001b[1;32m-> 2362\u001b[1;33m       \u001b[0mgraph_function\u001b[0m\u001b[1;33m,\u001b[0m \u001b[0margs\u001b[0m\u001b[1;33m,\u001b[0m \u001b[0mkwargs\u001b[0m \u001b[1;33m=\u001b[0m \u001b[0mself\u001b[0m\u001b[1;33m.\u001b[0m\u001b[0m_maybe_define_function\u001b[0m\u001b[1;33m(\u001b[0m\u001b[0margs\u001b[0m\u001b[1;33m,\u001b[0m \u001b[0mkwargs\u001b[0m\u001b[1;33m)\u001b[0m\u001b[1;33m\u001b[0m\u001b[1;33m\u001b[0m\u001b[0m\n\u001b[0m\u001b[0;32m   2363\u001b[0m     \u001b[1;32mreturn\u001b[0m \u001b[0mgraph_function\u001b[0m\u001b[1;33m.\u001b[0m\u001b[0m_filtered_call\u001b[0m\u001b[1;33m(\u001b[0m\u001b[0margs\u001b[0m\u001b[1;33m,\u001b[0m \u001b[0mkwargs\u001b[0m\u001b[1;33m)\u001b[0m  \u001b[1;31m# pylint: disable=protected-access\u001b[0m\u001b[1;33m\u001b[0m\u001b[1;33m\u001b[0m\u001b[0m\n\u001b[0;32m   2364\u001b[0m \u001b[1;33m\u001b[0m\u001b[0m\n",
      "\u001b[1;32m~\\Anaconda3\\envs\\2.1.0-gpu\\lib\\site-packages\\tensorflow_core\\python\\eager\\function.py\u001b[0m in \u001b[0;36m_maybe_define_function\u001b[1;34m(self, args, kwargs)\u001b[0m\n\u001b[0;32m   2701\u001b[0m \u001b[1;33m\u001b[0m\u001b[0m\n\u001b[0;32m   2702\u001b[0m       \u001b[0mself\u001b[0m\u001b[1;33m.\u001b[0m\u001b[0m_function_cache\u001b[0m\u001b[1;33m.\u001b[0m\u001b[0mmissed\u001b[0m\u001b[1;33m.\u001b[0m\u001b[0madd\u001b[0m\u001b[1;33m(\u001b[0m\u001b[0mcall_context_key\u001b[0m\u001b[1;33m)\u001b[0m\u001b[1;33m\u001b[0m\u001b[1;33m\u001b[0m\u001b[0m\n\u001b[1;32m-> 2703\u001b[1;33m       \u001b[0mgraph_function\u001b[0m \u001b[1;33m=\u001b[0m \u001b[0mself\u001b[0m\u001b[1;33m.\u001b[0m\u001b[0m_create_graph_function\u001b[0m\u001b[1;33m(\u001b[0m\u001b[0margs\u001b[0m\u001b[1;33m,\u001b[0m \u001b[0mkwargs\u001b[0m\u001b[1;33m)\u001b[0m\u001b[1;33m\u001b[0m\u001b[1;33m\u001b[0m\u001b[0m\n\u001b[0m\u001b[0;32m   2704\u001b[0m       \u001b[0mself\u001b[0m\u001b[1;33m.\u001b[0m\u001b[0m_function_cache\u001b[0m\u001b[1;33m.\u001b[0m\u001b[0mprimary\u001b[0m\u001b[1;33m[\u001b[0m\u001b[0mcache_key\u001b[0m\u001b[1;33m]\u001b[0m \u001b[1;33m=\u001b[0m \u001b[0mgraph_function\u001b[0m\u001b[1;33m\u001b[0m\u001b[1;33m\u001b[0m\u001b[0m\n\u001b[0;32m   2705\u001b[0m       \u001b[1;32mreturn\u001b[0m \u001b[0mgraph_function\u001b[0m\u001b[1;33m,\u001b[0m \u001b[0margs\u001b[0m\u001b[1;33m,\u001b[0m \u001b[0mkwargs\u001b[0m\u001b[1;33m\u001b[0m\u001b[1;33m\u001b[0m\u001b[0m\n",
      "\u001b[1;32m~\\Anaconda3\\envs\\2.1.0-gpu\\lib\\site-packages\\tensorflow_core\\python\\eager\\function.py\u001b[0m in \u001b[0;36m_create_graph_function\u001b[1;34m(self, args, kwargs, override_flat_arg_shapes)\u001b[0m\n\u001b[0;32m   2591\u001b[0m             \u001b[0marg_names\u001b[0m\u001b[1;33m=\u001b[0m\u001b[0marg_names\u001b[0m\u001b[1;33m,\u001b[0m\u001b[1;33m\u001b[0m\u001b[1;33m\u001b[0m\u001b[0m\n\u001b[0;32m   2592\u001b[0m             \u001b[0moverride_flat_arg_shapes\u001b[0m\u001b[1;33m=\u001b[0m\u001b[0moverride_flat_arg_shapes\u001b[0m\u001b[1;33m,\u001b[0m\u001b[1;33m\u001b[0m\u001b[1;33m\u001b[0m\u001b[0m\n\u001b[1;32m-> 2593\u001b[1;33m             capture_by_value=self._capture_by_value),\n\u001b[0m\u001b[0;32m   2594\u001b[0m         \u001b[0mself\u001b[0m\u001b[1;33m.\u001b[0m\u001b[0m_function_attributes\u001b[0m\u001b[1;33m,\u001b[0m\u001b[1;33m\u001b[0m\u001b[1;33m\u001b[0m\u001b[0m\n\u001b[0;32m   2595\u001b[0m         \u001b[1;31m# Tell the ConcreteFunction to clean up its graph once it goes out of\u001b[0m\u001b[1;33m\u001b[0m\u001b[1;33m\u001b[0m\u001b[1;33m\u001b[0m\u001b[0m\n",
      "\u001b[1;32m~\\Anaconda3\\envs\\2.1.0-gpu\\lib\\site-packages\\tensorflow_core\\python\\framework\\func_graph.py\u001b[0m in \u001b[0;36mfunc_graph_from_py_func\u001b[1;34m(name, python_func, args, kwargs, signature, func_graph, autograph, autograph_options, add_control_dependencies, arg_names, op_return_value, collections, capture_by_value, override_flat_arg_shapes)\u001b[0m\n\u001b[0;32m    976\u001b[0m                                           converted_func)\n\u001b[0;32m    977\u001b[0m \u001b[1;33m\u001b[0m\u001b[0m\n\u001b[1;32m--> 978\u001b[1;33m       \u001b[0mfunc_outputs\u001b[0m \u001b[1;33m=\u001b[0m \u001b[0mpython_func\u001b[0m\u001b[1;33m(\u001b[0m\u001b[1;33m*\u001b[0m\u001b[0mfunc_args\u001b[0m\u001b[1;33m,\u001b[0m \u001b[1;33m**\u001b[0m\u001b[0mfunc_kwargs\u001b[0m\u001b[1;33m)\u001b[0m\u001b[1;33m\u001b[0m\u001b[1;33m\u001b[0m\u001b[0m\n\u001b[0m\u001b[0;32m    979\u001b[0m \u001b[1;33m\u001b[0m\u001b[0m\n\u001b[0;32m    980\u001b[0m       \u001b[1;31m# invariant: `func_outputs` contains only Tensors, CompositeTensors,\u001b[0m\u001b[1;33m\u001b[0m\u001b[1;33m\u001b[0m\u001b[1;33m\u001b[0m\u001b[0m\n",
      "\u001b[1;32m~\\Anaconda3\\envs\\2.1.0-gpu\\lib\\site-packages\\tensorflow_core\\python\\eager\\def_function.py\u001b[0m in \u001b[0;36mwrapped_fn\u001b[1;34m(*args, **kwds)\u001b[0m\n\u001b[0;32m    437\u001b[0m         \u001b[1;31m# __wrapped__ allows AutoGraph to swap in a converted function. We give\u001b[0m\u001b[1;33m\u001b[0m\u001b[1;33m\u001b[0m\u001b[1;33m\u001b[0m\u001b[0m\n\u001b[0;32m    438\u001b[0m         \u001b[1;31m# the function a weak reference to itself to avoid a reference cycle.\u001b[0m\u001b[1;33m\u001b[0m\u001b[1;33m\u001b[0m\u001b[1;33m\u001b[0m\u001b[0m\n\u001b[1;32m--> 439\u001b[1;33m         \u001b[1;32mreturn\u001b[0m \u001b[0mweak_wrapped_fn\u001b[0m\u001b[1;33m(\u001b[0m\u001b[1;33m)\u001b[0m\u001b[1;33m.\u001b[0m\u001b[0m__wrapped__\u001b[0m\u001b[1;33m(\u001b[0m\u001b[1;33m*\u001b[0m\u001b[0margs\u001b[0m\u001b[1;33m,\u001b[0m \u001b[1;33m**\u001b[0m\u001b[0mkwds\u001b[0m\u001b[1;33m)\u001b[0m\u001b[1;33m\u001b[0m\u001b[1;33m\u001b[0m\u001b[0m\n\u001b[0m\u001b[0;32m    440\u001b[0m     \u001b[0mweak_wrapped_fn\u001b[0m \u001b[1;33m=\u001b[0m \u001b[0mweakref\u001b[0m\u001b[1;33m.\u001b[0m\u001b[0mref\u001b[0m\u001b[1;33m(\u001b[0m\u001b[0mwrapped_fn\u001b[0m\u001b[1;33m)\u001b[0m\u001b[1;33m\u001b[0m\u001b[1;33m\u001b[0m\u001b[0m\n\u001b[0;32m    441\u001b[0m \u001b[1;33m\u001b[0m\u001b[0m\n",
      "\u001b[1;32m~\\Anaconda3\\envs\\2.1.0-gpu\\lib\\site-packages\\tensorflow_core\\python\\keras\\engine\\training_v2_utils.py\u001b[0m in \u001b[0;36mdistributed_function\u001b[1;34m(input_iterator)\u001b[0m\n\u001b[0;32m     83\u001b[0m     \u001b[0margs\u001b[0m \u001b[1;33m=\u001b[0m \u001b[0m_prepare_feed_values\u001b[0m\u001b[1;33m(\u001b[0m\u001b[0mmodel\u001b[0m\u001b[1;33m,\u001b[0m \u001b[0minput_iterator\u001b[0m\u001b[1;33m,\u001b[0m \u001b[0mmode\u001b[0m\u001b[1;33m,\u001b[0m \u001b[0mstrategy\u001b[0m\u001b[1;33m)\u001b[0m\u001b[1;33m\u001b[0m\u001b[1;33m\u001b[0m\u001b[0m\n\u001b[0;32m     84\u001b[0m     outputs = strategy.experimental_run_v2(\n\u001b[1;32m---> 85\u001b[1;33m         per_replica_function, args=args)\n\u001b[0m\u001b[0;32m     86\u001b[0m     \u001b[1;31m# Out of PerReplica outputs reduce or pick values to return.\u001b[0m\u001b[1;33m\u001b[0m\u001b[1;33m\u001b[0m\u001b[1;33m\u001b[0m\u001b[0m\n\u001b[0;32m     87\u001b[0m     all_outputs = dist_utils.unwrap_output_dict(\n",
      "\u001b[1;32m~\\Anaconda3\\envs\\2.1.0-gpu\\lib\\site-packages\\tensorflow_core\\python\\distribute\\distribute_lib.py\u001b[0m in \u001b[0;36mexperimental_run_v2\u001b[1;34m(self, fn, args, kwargs)\u001b[0m\n\u001b[0;32m    761\u001b[0m       fn = autograph.tf_convert(fn, ag_ctx.control_status_ctx(),\n\u001b[0;32m    762\u001b[0m                                 convert_by_default=False)\n\u001b[1;32m--> 763\u001b[1;33m       \u001b[1;32mreturn\u001b[0m \u001b[0mself\u001b[0m\u001b[1;33m.\u001b[0m\u001b[0m_extended\u001b[0m\u001b[1;33m.\u001b[0m\u001b[0mcall_for_each_replica\u001b[0m\u001b[1;33m(\u001b[0m\u001b[0mfn\u001b[0m\u001b[1;33m,\u001b[0m \u001b[0margs\u001b[0m\u001b[1;33m=\u001b[0m\u001b[0margs\u001b[0m\u001b[1;33m,\u001b[0m \u001b[0mkwargs\u001b[0m\u001b[1;33m=\u001b[0m\u001b[0mkwargs\u001b[0m\u001b[1;33m)\u001b[0m\u001b[1;33m\u001b[0m\u001b[1;33m\u001b[0m\u001b[0m\n\u001b[0m\u001b[0;32m    764\u001b[0m \u001b[1;33m\u001b[0m\u001b[0m\n\u001b[0;32m    765\u001b[0m   \u001b[1;32mdef\u001b[0m \u001b[0mreduce\u001b[0m\u001b[1;33m(\u001b[0m\u001b[0mself\u001b[0m\u001b[1;33m,\u001b[0m \u001b[0mreduce_op\u001b[0m\u001b[1;33m,\u001b[0m \u001b[0mvalue\u001b[0m\u001b[1;33m,\u001b[0m \u001b[0maxis\u001b[0m\u001b[1;33m)\u001b[0m\u001b[1;33m:\u001b[0m\u001b[1;33m\u001b[0m\u001b[1;33m\u001b[0m\u001b[0m\n",
      "\u001b[1;32m~\\Anaconda3\\envs\\2.1.0-gpu\\lib\\site-packages\\tensorflow_core\\python\\distribute\\distribute_lib.py\u001b[0m in \u001b[0;36mcall_for_each_replica\u001b[1;34m(self, fn, args, kwargs)\u001b[0m\n\u001b[0;32m   1817\u001b[0m       \u001b[0mkwargs\u001b[0m \u001b[1;33m=\u001b[0m \u001b[1;33m{\u001b[0m\u001b[1;33m}\u001b[0m\u001b[1;33m\u001b[0m\u001b[1;33m\u001b[0m\u001b[0m\n\u001b[0;32m   1818\u001b[0m     \u001b[1;32mwith\u001b[0m \u001b[0mself\u001b[0m\u001b[1;33m.\u001b[0m\u001b[0m_container_strategy\u001b[0m\u001b[1;33m(\u001b[0m\u001b[1;33m)\u001b[0m\u001b[1;33m.\u001b[0m\u001b[0mscope\u001b[0m\u001b[1;33m(\u001b[0m\u001b[1;33m)\u001b[0m\u001b[1;33m:\u001b[0m\u001b[1;33m\u001b[0m\u001b[1;33m\u001b[0m\u001b[0m\n\u001b[1;32m-> 1819\u001b[1;33m       \u001b[1;32mreturn\u001b[0m \u001b[0mself\u001b[0m\u001b[1;33m.\u001b[0m\u001b[0m_call_for_each_replica\u001b[0m\u001b[1;33m(\u001b[0m\u001b[0mfn\u001b[0m\u001b[1;33m,\u001b[0m \u001b[0margs\u001b[0m\u001b[1;33m,\u001b[0m \u001b[0mkwargs\u001b[0m\u001b[1;33m)\u001b[0m\u001b[1;33m\u001b[0m\u001b[1;33m\u001b[0m\u001b[0m\n\u001b[0m\u001b[0;32m   1820\u001b[0m \u001b[1;33m\u001b[0m\u001b[0m\n\u001b[0;32m   1821\u001b[0m   \u001b[1;32mdef\u001b[0m \u001b[0m_call_for_each_replica\u001b[0m\u001b[1;33m(\u001b[0m\u001b[0mself\u001b[0m\u001b[1;33m,\u001b[0m \u001b[0mfn\u001b[0m\u001b[1;33m,\u001b[0m \u001b[0margs\u001b[0m\u001b[1;33m,\u001b[0m \u001b[0mkwargs\u001b[0m\u001b[1;33m)\u001b[0m\u001b[1;33m:\u001b[0m\u001b[1;33m\u001b[0m\u001b[1;33m\u001b[0m\u001b[0m\n",
      "\u001b[1;32m~\\Anaconda3\\envs\\2.1.0-gpu\\lib\\site-packages\\tensorflow_core\\python\\distribute\\distribute_lib.py\u001b[0m in \u001b[0;36m_call_for_each_replica\u001b[1;34m(self, fn, args, kwargs)\u001b[0m\n\u001b[0;32m   2162\u001b[0m         \u001b[0mself\u001b[0m\u001b[1;33m.\u001b[0m\u001b[0m_container_strategy\u001b[0m\u001b[1;33m(\u001b[0m\u001b[1;33m)\u001b[0m\u001b[1;33m,\u001b[0m\u001b[1;33m\u001b[0m\u001b[1;33m\u001b[0m\u001b[0m\n\u001b[0;32m   2163\u001b[0m         replica_id_in_sync_group=constant_op.constant(0, dtypes.int32)):\n\u001b[1;32m-> 2164\u001b[1;33m       \u001b[1;32mreturn\u001b[0m \u001b[0mfn\u001b[0m\u001b[1;33m(\u001b[0m\u001b[1;33m*\u001b[0m\u001b[0margs\u001b[0m\u001b[1;33m,\u001b[0m \u001b[1;33m**\u001b[0m\u001b[0mkwargs\u001b[0m\u001b[1;33m)\u001b[0m\u001b[1;33m\u001b[0m\u001b[1;33m\u001b[0m\u001b[0m\n\u001b[0m\u001b[0;32m   2165\u001b[0m \u001b[1;33m\u001b[0m\u001b[0m\n\u001b[0;32m   2166\u001b[0m   \u001b[1;32mdef\u001b[0m \u001b[0m_reduce_to\u001b[0m\u001b[1;33m(\u001b[0m\u001b[0mself\u001b[0m\u001b[1;33m,\u001b[0m \u001b[0mreduce_op\u001b[0m\u001b[1;33m,\u001b[0m \u001b[0mvalue\u001b[0m\u001b[1;33m,\u001b[0m \u001b[0mdestinations\u001b[0m\u001b[1;33m)\u001b[0m\u001b[1;33m:\u001b[0m\u001b[1;33m\u001b[0m\u001b[1;33m\u001b[0m\u001b[0m\n",
      "\u001b[1;32m~\\Anaconda3\\envs\\2.1.0-gpu\\lib\\site-packages\\tensorflow_core\\python\\autograph\\impl\\api.py\u001b[0m in \u001b[0;36mwrapper\u001b[1;34m(*args, **kwargs)\u001b[0m\n\u001b[0;32m    290\u001b[0m   \u001b[1;32mdef\u001b[0m \u001b[0mwrapper\u001b[0m\u001b[1;33m(\u001b[0m\u001b[1;33m*\u001b[0m\u001b[0margs\u001b[0m\u001b[1;33m,\u001b[0m \u001b[1;33m**\u001b[0m\u001b[0mkwargs\u001b[0m\u001b[1;33m)\u001b[0m\u001b[1;33m:\u001b[0m\u001b[1;33m\u001b[0m\u001b[1;33m\u001b[0m\u001b[0m\n\u001b[0;32m    291\u001b[0m     \u001b[1;32mwith\u001b[0m \u001b[0mag_ctx\u001b[0m\u001b[1;33m.\u001b[0m\u001b[0mControlStatusCtx\u001b[0m\u001b[1;33m(\u001b[0m\u001b[0mstatus\u001b[0m\u001b[1;33m=\u001b[0m\u001b[0mag_ctx\u001b[0m\u001b[1;33m.\u001b[0m\u001b[0mStatus\u001b[0m\u001b[1;33m.\u001b[0m\u001b[0mDISABLED\u001b[0m\u001b[1;33m)\u001b[0m\u001b[1;33m:\u001b[0m\u001b[1;33m\u001b[0m\u001b[1;33m\u001b[0m\u001b[0m\n\u001b[1;32m--> 292\u001b[1;33m       \u001b[1;32mreturn\u001b[0m \u001b[0mfunc\u001b[0m\u001b[1;33m(\u001b[0m\u001b[1;33m*\u001b[0m\u001b[0margs\u001b[0m\u001b[1;33m,\u001b[0m \u001b[1;33m**\u001b[0m\u001b[0mkwargs\u001b[0m\u001b[1;33m)\u001b[0m\u001b[1;33m\u001b[0m\u001b[1;33m\u001b[0m\u001b[0m\n\u001b[0m\u001b[0;32m    293\u001b[0m \u001b[1;33m\u001b[0m\u001b[0m\n\u001b[0;32m    294\u001b[0m   \u001b[1;32mif\u001b[0m \u001b[0minspect\u001b[0m\u001b[1;33m.\u001b[0m\u001b[0misfunction\u001b[0m\u001b[1;33m(\u001b[0m\u001b[0mfunc\u001b[0m\u001b[1;33m)\u001b[0m \u001b[1;32mor\u001b[0m \u001b[0minspect\u001b[0m\u001b[1;33m.\u001b[0m\u001b[0mismethod\u001b[0m\u001b[1;33m(\u001b[0m\u001b[0mfunc\u001b[0m\u001b[1;33m)\u001b[0m\u001b[1;33m:\u001b[0m\u001b[1;33m\u001b[0m\u001b[1;33m\u001b[0m\u001b[0m\n",
      "\u001b[1;32m~\\Anaconda3\\envs\\2.1.0-gpu\\lib\\site-packages\\tensorflow_core\\python\\keras\\engine\\training_v2_utils.py\u001b[0m in \u001b[0;36mtrain_on_batch\u001b[1;34m(model, x, y, sample_weight, class_weight, reset_metrics, standalone)\u001b[0m\n\u001b[0;32m    431\u001b[0m       \u001b[0my\u001b[0m\u001b[1;33m,\u001b[0m\u001b[1;33m\u001b[0m\u001b[1;33m\u001b[0m\u001b[0m\n\u001b[0;32m    432\u001b[0m       \u001b[0msample_weights\u001b[0m\u001b[1;33m=\u001b[0m\u001b[0msample_weights\u001b[0m\u001b[1;33m,\u001b[0m\u001b[1;33m\u001b[0m\u001b[1;33m\u001b[0m\u001b[0m\n\u001b[1;32m--> 433\u001b[1;33m       output_loss_metrics=model._output_loss_metrics)\n\u001b[0m\u001b[0;32m    434\u001b[0m \u001b[1;33m\u001b[0m\u001b[0m\n\u001b[0;32m    435\u001b[0m   \u001b[1;32mif\u001b[0m \u001b[0mreset_metrics\u001b[0m\u001b[1;33m:\u001b[0m\u001b[1;33m\u001b[0m\u001b[1;33m\u001b[0m\u001b[0m\n",
      "\u001b[1;32m~\\Anaconda3\\envs\\2.1.0-gpu\\lib\\site-packages\\tensorflow_core\\python\\keras\\engine\\training_eager.py\u001b[0m in \u001b[0;36mtrain_on_batch\u001b[1;34m(model, inputs, targets, sample_weights, output_loss_metrics)\u001b[0m\n\u001b[0;32m    310\u001b[0m           \u001b[0msample_weights\u001b[0m\u001b[1;33m=\u001b[0m\u001b[0msample_weights\u001b[0m\u001b[1;33m,\u001b[0m\u001b[1;33m\u001b[0m\u001b[1;33m\u001b[0m\u001b[0m\n\u001b[0;32m    311\u001b[0m           \u001b[0mtraining\u001b[0m\u001b[1;33m=\u001b[0m\u001b[1;32mTrue\u001b[0m\u001b[1;33m,\u001b[0m\u001b[1;33m\u001b[0m\u001b[1;33m\u001b[0m\u001b[0m\n\u001b[1;32m--> 312\u001b[1;33m           output_loss_metrics=output_loss_metrics))\n\u001b[0m\u001b[0;32m    313\u001b[0m   \u001b[1;32mif\u001b[0m \u001b[1;32mnot\u001b[0m \u001b[0misinstance\u001b[0m\u001b[1;33m(\u001b[0m\u001b[0mouts\u001b[0m\u001b[1;33m,\u001b[0m \u001b[0mlist\u001b[0m\u001b[1;33m)\u001b[0m\u001b[1;33m:\u001b[0m\u001b[1;33m\u001b[0m\u001b[1;33m\u001b[0m\u001b[0m\n\u001b[0;32m    314\u001b[0m     \u001b[0mouts\u001b[0m \u001b[1;33m=\u001b[0m \u001b[1;33m[\u001b[0m\u001b[0mouts\u001b[0m\u001b[1;33m]\u001b[0m\u001b[1;33m\u001b[0m\u001b[1;33m\u001b[0m\u001b[0m\n",
      "\u001b[1;32m~\\Anaconda3\\envs\\2.1.0-gpu\\lib\\site-packages\\tensorflow_core\\python\\keras\\engine\\training_eager.py\u001b[0m in \u001b[0;36m_process_single_batch\u001b[1;34m(model, inputs, targets, output_loss_metrics, sample_weights, training)\u001b[0m\n\u001b[0;32m    251\u001b[0m               \u001b[0moutput_loss_metrics\u001b[0m\u001b[1;33m=\u001b[0m\u001b[0moutput_loss_metrics\u001b[0m\u001b[1;33m,\u001b[0m\u001b[1;33m\u001b[0m\u001b[1;33m\u001b[0m\u001b[0m\n\u001b[0;32m    252\u001b[0m               \u001b[0msample_weights\u001b[0m\u001b[1;33m=\u001b[0m\u001b[0msample_weights\u001b[0m\u001b[1;33m,\u001b[0m\u001b[1;33m\u001b[0m\u001b[1;33m\u001b[0m\u001b[0m\n\u001b[1;32m--> 253\u001b[1;33m               training=training))\n\u001b[0m\u001b[0;32m    254\u001b[0m       \u001b[1;32mif\u001b[0m \u001b[0mtotal_loss\u001b[0m \u001b[1;32mis\u001b[0m \u001b[1;32mNone\u001b[0m\u001b[1;33m:\u001b[0m\u001b[1;33m\u001b[0m\u001b[1;33m\u001b[0m\u001b[0m\n\u001b[0;32m    255\u001b[0m         raise ValueError('The model cannot be run '\n",
      "\u001b[1;32m~\\Anaconda3\\envs\\2.1.0-gpu\\lib\\site-packages\\tensorflow_core\\python\\keras\\engine\\training_eager.py\u001b[0m in \u001b[0;36m_model_loss\u001b[1;34m(model, inputs, targets, output_loss_metrics, sample_weights, training)\u001b[0m\n\u001b[0;32m    165\u001b[0m \u001b[1;33m\u001b[0m\u001b[0m\n\u001b[0;32m    166\u001b[0m         \u001b[1;32mif\u001b[0m \u001b[0mhasattr\u001b[0m\u001b[1;33m(\u001b[0m\u001b[0mloss_fn\u001b[0m\u001b[1;33m,\u001b[0m \u001b[1;34m'reduction'\u001b[0m\u001b[1;33m)\u001b[0m\u001b[1;33m:\u001b[0m\u001b[1;33m\u001b[0m\u001b[1;33m\u001b[0m\u001b[0m\n\u001b[1;32m--> 167\u001b[1;33m           \u001b[0mper_sample_losses\u001b[0m \u001b[1;33m=\u001b[0m \u001b[0mloss_fn\u001b[0m\u001b[1;33m.\u001b[0m\u001b[0mcall\u001b[0m\u001b[1;33m(\u001b[0m\u001b[0mtargets\u001b[0m\u001b[1;33m[\u001b[0m\u001b[0mi\u001b[0m\u001b[1;33m]\u001b[0m\u001b[1;33m,\u001b[0m \u001b[0mouts\u001b[0m\u001b[1;33m[\u001b[0m\u001b[0mi\u001b[0m\u001b[1;33m]\u001b[0m\u001b[1;33m)\u001b[0m\u001b[1;33m\u001b[0m\u001b[1;33m\u001b[0m\u001b[0m\n\u001b[0m\u001b[0;32m    168\u001b[0m           weighted_losses = losses_utils.compute_weighted_loss(\n\u001b[0;32m    169\u001b[0m               \u001b[0mper_sample_losses\u001b[0m\u001b[1;33m,\u001b[0m\u001b[1;33m\u001b[0m\u001b[1;33m\u001b[0m\u001b[0m\n",
      "\u001b[1;31mIndexError\u001b[0m: list index out of range"
     ]
    }
   ],
   "source": [
    "a = model.fit([tf.constant([1]), tf.constant([1]), tf.constant([1])])"
   ]
  },
  {
   "cell_type": "code",
   "execution_count": 33,
   "metadata": {},
   "outputs": [],
   "source": [
    "model.compile(loss=tf.keras.losses.categorical_crossentropy,\n",
    "              optimizer=tf.keras.optimizers.Adadelta(),\n",
    "              metrics=['accuracy'])"
   ]
  },
  {
   "cell_type": "code",
   "execution_count": null,
   "metadata": {},
   "outputs": [],
   "source": []
  }
 ],
 "metadata": {
  "kernelspec": {
   "display_name": "Python 3.7.6 64-bit ('2.1.0-gpu': conda)",
   "language": "python",
   "name": "python37664bit210gpuconda4d41b7294bd94f81a9253fc8759eb436"
  },
  "language_info": {
   "codemirror_mode": {
    "name": "ipython",
    "version": 3
   },
   "file_extension": ".py",
   "mimetype": "text/x-python",
   "name": "python",
   "nbconvert_exporter": "python",
   "pygments_lexer": "ipython3",
   "version": "3.7.6"
  }
 },
 "nbformat": 4,
 "nbformat_minor": 4
}
