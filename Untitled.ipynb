{
 "cells": [
  {
   "cell_type": "code",
   "execution_count": 1,
   "metadata": {},
   "outputs": [],
   "source": [
    "import tensorflow as tf\n",
    "import os\n",
    "import numpy as np"
   ]
  },
  {
   "cell_type": "code",
   "execution_count": 2,
   "metadata": {},
   "outputs": [
    {
     "data": {
      "text/plain": [
       "<tensorflow.python.training.tracking.util.CheckpointLoadStatus at 0x162a5a68348>"
      ]
     },
     "execution_count": 2,
     "metadata": {},
     "output_type": "execute_result"
    }
   ],
   "source": [
    "from generator import generator\n",
    "\n",
    "model = generator()\n",
    "\n",
    "model.load_weights(r\"E:\\NTNU1-2\\Nyx\\NyxDataSet\\wgan\\2020-8-22_20-12\\gen\"+ \"\\\\trained_ckpt\")"
   ]
  },
  {
   "cell_type": "code",
   "execution_count": 10,
   "metadata": {},
   "outputs": [],
   "source": [
    "g = os.walk(r'E:\\NTNU1-2\\Nyx\\NyxDataSet\\NyxDataSet64_64_64')  \n",
    "training_set = []\n",
    "for path,dir_list,file_list in g:  \n",
    "    for file_name in file_list:  \n",
    "        tmp_data = np.fromfile(path+'\\\\'+file_name, dtype = 'float32')\n",
    "        tmp_data.tofile(r'E:\\NTNU1-2\\Nyx\\NyxDataSet\\NyxDataSet64_64_64' + f'\\\\{file_name}.bin')\n",
    "        #tmp_data_256_256_256 = tmp_data.reshape(256,256,256)\n",
    "        #tmp_data_16_16_16 = tmp_data_256_256_256[120:136, 120:136, 120:136]\n",
    "        #training_set.append(tmp_data.reshape((16, 16, 16, 1)))"
   ]
  },
  {
   "cell_type": "code",
   "execution_count": 5,
   "metadata": {},
   "outputs": [],
   "source": [
    "parameter1 = tf.constant([0.13733])\n",
    "\n",
    "parameter2 = tf.constant([0.02178])\n",
    "\n",
    "parameter3 = tf.constant([0.58625])"
   ]
  },
  {
   "cell_type": "code",
   "execution_count": 6,
   "metadata": {},
   "outputs": [
    {
     "data": {
      "text/plain": [
       "<tf.Tensor: shape=(1,), dtype=float32, numpy=array([0.13733], dtype=float32)>"
      ]
     },
     "execution_count": 6,
     "metadata": {},
     "output_type": "execute_result"
    }
   ],
   "source": []
  },
  {
   "cell_type": "code",
   "execution_count": 10,
   "metadata": {},
   "outputs": [],
   "source": [
    "\n",
    "filename = os.listdir(r'E:\\NTNU1-2\\Nyx\\NyxDataSet\\NyxDataSet16_16_16')\n",
    "\n",
    "\n",
    "\n",
    "parameter1 = tf.constant(np.array([np.float(file[5:12]) for file in filename], dtype=np.float32).reshape((len(filename), 1))[:64])\n",
    "parameter2 = tf.constant(np.array([np.float(file[13:20]) for file in filename], dtype=np.float32).reshape((len(filename), 1))[:64])\n",
    "parameter3 = tf.constant(np.array([np.float(file[21:28]) for file in filename], dtype=np.float32).reshape((len(filename), 1))[:64])\n"
   ]
  },
  {
   "cell_type": "code",
   "execution_count": 6,
   "metadata": {},
   "outputs": [],
   "source": [
    "c = model.predict([parameter1, parameter2, parameter3])"
   ]
  },
  {
   "cell_type": "code",
   "execution_count": 7,
   "metadata": {},
   "outputs": [],
   "source": [
    "c.tofile('NyxPredict-3')"
   ]
  },
  {
   "cell_type": "code",
   "execution_count": 35,
   "metadata": {},
   "outputs": [],
   "source": [
    "maxs = np.max(training_set[2])"
   ]
  },
  {
   "cell_type": "code",
   "execution_count": 36,
   "metadata": {},
   "outputs": [],
   "source": [
    "mins = np.min(training_set[2])"
   ]
  },
  {
   "cell_type": "code",
   "execution_count": 37,
   "metadata": {},
   "outputs": [
    {
     "data": {
      "text/plain": [
       "<tf.Tensor: shape=(), dtype=float32, numpy=0.088198915>"
      ]
     },
     "execution_count": 37,
     "metadata": {},
     "output_type": "execute_result"
    }
   ],
   "source": [
    "tf.sqrt(tf.reduce_mean((training_set[2] - c.numpy()[2])**2)) / (maxs - mins)"
   ]
  },
  {
   "cell_type": "code",
   "execution_count": 27,
   "metadata": {},
   "outputs": [],
   "source": [
    "c.numpy()[1].reshape((16, 16, 16)).tofile(r'E:\\NTNU1-2\\Nyx\\3D8.4%_0001train_16x16x16.bin')"
   ]
  },
  {
   "cell_type": "code",
   "execution_count": 4,
   "metadata": {},
   "outputs": [
    {
     "name": "stdout",
     "output_type": "stream",
     "text": [
      "tf.Tensor(2.2707577, shape=(), dtype=float32)\n",
      "tf.Tensor(0.75386435, shape=(), dtype=float32)\n",
      "tf.Tensor(0.8837077, shape=(), dtype=float32)\n",
      "tf.Tensor(0.22849326, shape=(), dtype=float32)\n",
      "tf.Tensor(0.20517704, shape=(), dtype=float32)\n",
      "tf.Tensor(0.5519632, shape=(), dtype=float32)\n",
      "tf.Tensor(0.3976801, shape=(), dtype=float32)\n",
      "tf.Tensor(0.9687233, shape=(), dtype=float32)\n",
      "tf.Tensor(0.25585252, shape=(), dtype=float32)\n",
      "tf.Tensor(0.21775377, shape=(), dtype=float32)\n",
      "tf.Tensor(0.27506825, shape=(), dtype=float32)\n",
      "tf.Tensor(0.46718866, shape=(), dtype=float32)\n",
      "tf.Tensor(2.0704317, shape=(), dtype=float32)\n",
      "tf.Tensor(0.2585095, shape=(), dtype=float32)\n",
      "tf.Tensor(1.040579, shape=(), dtype=float32)\n",
      "tf.Tensor(0.23432916, shape=(), dtype=float32)\n",
      "tf.Tensor(1.5069767, shape=(), dtype=float32)\n",
      "tf.Tensor(0.18662494, shape=(), dtype=float32)\n",
      "tf.Tensor(0.20524777, shape=(), dtype=float32)\n",
      "tf.Tensor(1.3201836, shape=(), dtype=float32)\n",
      "tf.Tensor(0.96405643, shape=(), dtype=float32)\n",
      "tf.Tensor(0.2054383, shape=(), dtype=float32)\n",
      "tf.Tensor(0.17861912, shape=(), dtype=float32)\n",
      "tf.Tensor(0.999856, shape=(), dtype=float32)\n",
      "tf.Tensor(1.3961843, shape=(), dtype=float32)\n",
      "tf.Tensor(0.7873679, shape=(), dtype=float32)\n",
      "tf.Tensor(0.21321881, shape=(), dtype=float32)\n",
      "tf.Tensor(1.1377645, shape=(), dtype=float32)\n",
      "tf.Tensor(0.17977013, shape=(), dtype=float32)\n",
      "tf.Tensor(0.63908565, shape=(), dtype=float32)\n",
      "tf.Tensor(0.5524733, shape=(), dtype=float32)\n",
      "tf.Tensor(0.7392956, shape=(), dtype=float32)\n",
      "tf.Tensor(0.37790918, shape=(), dtype=float32)\n",
      "tf.Tensor(1.2029914, shape=(), dtype=float32)\n",
      "tf.Tensor(1.1532841, shape=(), dtype=float32)\n",
      "tf.Tensor(0.18036593, shape=(), dtype=float32)\n",
      "tf.Tensor(0.22702433, shape=(), dtype=float32)\n",
      "tf.Tensor(0.42194793, shape=(), dtype=float32)\n",
      "tf.Tensor(0.7279191, shape=(), dtype=float32)\n",
      "tf.Tensor(0.4702356, shape=(), dtype=float32)\n",
      "tf.Tensor(0.2387315, shape=(), dtype=float32)\n",
      "tf.Tensor(0.22583897, shape=(), dtype=float32)\n",
      "tf.Tensor(0.24293186, shape=(), dtype=float32)\n",
      "tf.Tensor(0.73547375, shape=(), dtype=float32)\n",
      "tf.Tensor(1.5496197, shape=(), dtype=float32)\n",
      "tf.Tensor(0.22100669, shape=(), dtype=float32)\n",
      "tf.Tensor(1.1135849, shape=(), dtype=float32)\n",
      "tf.Tensor(0.2015642, shape=(), dtype=float32)\n",
      "tf.Tensor(0.22256914, shape=(), dtype=float32)\n",
      "tf.Tensor(1.5071636, shape=(), dtype=float32)\n",
      "tf.Tensor(0.21599847, shape=(), dtype=float32)\n",
      "tf.Tensor(1.3058614, shape=(), dtype=float32)\n",
      "tf.Tensor(0.26821998, shape=(), dtype=float32)\n",
      "tf.Tensor(0.35536966, shape=(), dtype=float32)\n",
      "tf.Tensor(0.29954576, shape=(), dtype=float32)\n",
      "tf.Tensor(0.18000072, shape=(), dtype=float32)\n",
      "tf.Tensor(0.9607308, shape=(), dtype=float32)\n",
      "tf.Tensor(0.20952797, shape=(), dtype=float32)\n",
      "tf.Tensor(0.24146323, shape=(), dtype=float32)\n",
      "tf.Tensor(1.374556, shape=(), dtype=float32)\n",
      "tf.Tensor(2.546086, shape=(), dtype=float32)\n",
      "tf.Tensor(0.20259744, shape=(), dtype=float32)\n",
      "tf.Tensor(0.66789037, shape=(), dtype=float32)\n",
      "tf.Tensor(0.64273375, shape=(), dtype=float32)\n",
      "tf.Tensor(1.857001, shape=(), dtype=float32)\n",
      "tf.Tensor(0.21010911, shape=(), dtype=float32)\n",
      "tf.Tensor(1.4857986, shape=(), dtype=float32)\n",
      "tf.Tensor(0.29438707, shape=(), dtype=float32)\n",
      "tf.Tensor(0.39817816, shape=(), dtype=float32)\n",
      "tf.Tensor(0.22170006, shape=(), dtype=float32)\n",
      "tf.Tensor(0.22209056, shape=(), dtype=float32)\n",
      "tf.Tensor(0.20547418, shape=(), dtype=float32)\n",
      "tf.Tensor(0.7823595, shape=(), dtype=float32)\n",
      "tf.Tensor(1.4473202, shape=(), dtype=float32)\n",
      "tf.Tensor(1.0074703, shape=(), dtype=float32)\n",
      "tf.Tensor(0.9698281, shape=(), dtype=float32)\n",
      "tf.Tensor(1.075595, shape=(), dtype=float32)\n",
      "tf.Tensor(0.7266518, shape=(), dtype=float32)\n",
      "tf.Tensor(0.55546004, shape=(), dtype=float32)\n",
      "tf.Tensor(0.22815822, shape=(), dtype=float32)\n",
      "tf.Tensor(1.3287221, shape=(), dtype=float32)\n",
      "tf.Tensor(0.21115546, shape=(), dtype=float32)\n",
      "tf.Tensor(0.19458161, shape=(), dtype=float32)\n",
      "tf.Tensor(1.3394285, shape=(), dtype=float32)\n",
      "tf.Tensor(1.3446814, shape=(), dtype=float32)\n",
      "tf.Tensor(0.8699682, shape=(), dtype=float32)\n",
      "tf.Tensor(1.0373609, shape=(), dtype=float32)\n",
      "tf.Tensor(0.18647571, shape=(), dtype=float32)\n",
      "tf.Tensor(1.870412, shape=(), dtype=float32)\n",
      "tf.Tensor(1.9061018, shape=(), dtype=float32)\n",
      "tf.Tensor(0.92556083, shape=(), dtype=float32)\n",
      "tf.Tensor(0.23029903, shape=(), dtype=float32)\n",
      "tf.Tensor(1.2882265, shape=(), dtype=float32)\n",
      "tf.Tensor(0.8185835, shape=(), dtype=float32)\n",
      "tf.Tensor(1.0864136, shape=(), dtype=float32)\n",
      "tf.Tensor(0.81305504, shape=(), dtype=float32)\n",
      "tf.Tensor(0.2560191, shape=(), dtype=float32)\n",
      "tf.Tensor(0.20168692, shape=(), dtype=float32)\n",
      "tf.Tensor(0.65504205, shape=(), dtype=float32)\n",
      "tf.Tensor(0.2370764, shape=(), dtype=float32)\n",
      "tf.Tensor(0.2506657, shape=(), dtype=float32)\n",
      "tf.Tensor(0.2110192, shape=(), dtype=float32)\n",
      "tf.Tensor(0.8766369, shape=(), dtype=float32)\n",
      "tf.Tensor(0.8717212, shape=(), dtype=float32)\n",
      "tf.Tensor(0.2319261, shape=(), dtype=float32)\n",
      "tf.Tensor(1.4345403, shape=(), dtype=float32)\n",
      "tf.Tensor(0.19939926, shape=(), dtype=float32)\n",
      "tf.Tensor(0.736285, shape=(), dtype=float32)\n",
      "tf.Tensor(0.8814623, shape=(), dtype=float32)\n",
      "tf.Tensor(0.64334214, shape=(), dtype=float32)\n",
      "tf.Tensor(0.61233884, shape=(), dtype=float32)\n",
      "tf.Tensor(0.20642848, shape=(), dtype=float32)\n",
      "tf.Tensor(0.42413682, shape=(), dtype=float32)\n",
      "tf.Tensor(0.47361207, shape=(), dtype=float32)\n",
      "tf.Tensor(2.0370233, shape=(), dtype=float32)\n",
      "tf.Tensor(0.8717793, shape=(), dtype=float32)\n",
      "tf.Tensor(0.37034056, shape=(), dtype=float32)\n",
      "tf.Tensor(0.8171507, shape=(), dtype=float32)\n",
      "tf.Tensor(0.21192999, shape=(), dtype=float32)\n",
      "tf.Tensor(0.2231021, shape=(), dtype=float32)\n",
      "tf.Tensor(0.31194192, shape=(), dtype=float32)\n",
      "tf.Tensor(0.18817979, shape=(), dtype=float32)\n",
      "tf.Tensor(1.4299058, shape=(), dtype=float32)\n",
      "tf.Tensor(1.4607335, shape=(), dtype=float32)\n",
      "tf.Tensor(2.2185345, shape=(), dtype=float32)\n",
      "tf.Tensor(0.8587461, shape=(), dtype=float32)\n",
      "tf.Tensor(0.23962753, shape=(), dtype=float32)\n",
      "tf.Tensor(1.0594306, shape=(), dtype=float32)\n",
      "tf.Tensor(1.898159, shape=(), dtype=float32)\n",
      "tf.Tensor(0.9280331, shape=(), dtype=float32)\n",
      "tf.Tensor(1.6870538, shape=(), dtype=float32)\n",
      "tf.Tensor(0.9379329, shape=(), dtype=float32)\n",
      "tf.Tensor(0.21516912, shape=(), dtype=float32)\n",
      "tf.Tensor(0.2772395, shape=(), dtype=float32)\n",
      "tf.Tensor(0.21530995, shape=(), dtype=float32)\n",
      "tf.Tensor(0.69829434, shape=(), dtype=float32)\n",
      "tf.Tensor(0.2001105, shape=(), dtype=float32)\n",
      "tf.Tensor(0.20820685, shape=(), dtype=float32)\n",
      "tf.Tensor(0.5238919, shape=(), dtype=float32)\n",
      "tf.Tensor(1.0063777, shape=(), dtype=float32)\n",
      "tf.Tensor(1.3932621, shape=(), dtype=float32)\n",
      "tf.Tensor(1.5032583, shape=(), dtype=float32)\n",
      "tf.Tensor(0.73523396, shape=(), dtype=float32)\n",
      "tf.Tensor(0.21947303, shape=(), dtype=float32)\n",
      "tf.Tensor(0.18183538, shape=(), dtype=float32)\n",
      "tf.Tensor(0.18789382, shape=(), dtype=float32)\n",
      "tf.Tensor(0.7920704, shape=(), dtype=float32)\n",
      "tf.Tensor(0.20788822, shape=(), dtype=float32)\n",
      "tf.Tensor(1.7031378, shape=(), dtype=float32)\n",
      "tf.Tensor(1.1152508, shape=(), dtype=float32)\n",
      "tf.Tensor(0.18959847, shape=(), dtype=float32)\n",
      "tf.Tensor(0.9632549, shape=(), dtype=float32)\n",
      "tf.Tensor(0.80012393, shape=(), dtype=float32)\n",
      "tf.Tensor(0.52557194, shape=(), dtype=float32)\n",
      "tf.Tensor(1.8441571, shape=(), dtype=float32)\n",
      "tf.Tensor(1.6420695, shape=(), dtype=float32)\n",
      "tf.Tensor(1.5916129, shape=(), dtype=float32)\n",
      "tf.Tensor(0.18306664, shape=(), dtype=float32)\n",
      "tf.Tensor(0.21300428, shape=(), dtype=float32)\n",
      "tf.Tensor(0.3344849, shape=(), dtype=float32)\n",
      "tf.Tensor(0.7737597, shape=(), dtype=float32)\n",
      "tf.Tensor(0.3669159, shape=(), dtype=float32)\n",
      "tf.Tensor(0.62270164, shape=(), dtype=float32)\n",
      "tf.Tensor(1.5262011, shape=(), dtype=float32)\n",
      "tf.Tensor(0.19462202, shape=(), dtype=float32)\n",
      "tf.Tensor(1.1622428, shape=(), dtype=float32)\n",
      "tf.Tensor(0.190912, shape=(), dtype=float32)\n",
      "tf.Tensor(0.27644452, shape=(), dtype=float32)\n",
      "tf.Tensor(0.915158, shape=(), dtype=float32)\n",
      "tf.Tensor(1.4193012, shape=(), dtype=float32)\n",
      "tf.Tensor(1.4917958, shape=(), dtype=float32)\n",
      "tf.Tensor(0.3309131, shape=(), dtype=float32)\n",
      "tf.Tensor(1.1164106, shape=(), dtype=float32)\n",
      "tf.Tensor(0.18691583, shape=(), dtype=float32)\n",
      "tf.Tensor(0.5214049, shape=(), dtype=float32)\n",
      "tf.Tensor(0.19451092, shape=(), dtype=float32)\n",
      "tf.Tensor(0.2044231, shape=(), dtype=float32)\n",
      "tf.Tensor(0.8501351, shape=(), dtype=float32)\n",
      "tf.Tensor(0.3746273, shape=(), dtype=float32)\n"
     ]
    },
    {
     "name": "stdout",
     "output_type": "stream",
     "text": [
      "tf.Tensor(0.22464238, shape=(), dtype=float32)\n",
      "tf.Tensor(0.70215285, shape=(), dtype=float32)\n",
      "tf.Tensor(1.1704216, shape=(), dtype=float32)\n",
      "tf.Tensor(0.21161796, shape=(), dtype=float32)\n",
      "tf.Tensor(0.32285503, shape=(), dtype=float32)\n",
      "tf.Tensor(0.83422035, shape=(), dtype=float32)\n",
      "tf.Tensor(1.3831589, shape=(), dtype=float32)\n",
      "tf.Tensor(0.22299679, shape=(), dtype=float32)\n",
      "tf.Tensor(0.35633326, shape=(), dtype=float32)\n",
      "tf.Tensor(1.0663968, shape=(), dtype=float32)\n",
      "tf.Tensor(0.21996804, shape=(), dtype=float32)\n",
      "tf.Tensor(0.1810984, shape=(), dtype=float32)\n",
      "tf.Tensor(0.20062633, shape=(), dtype=float32)\n",
      "tf.Tensor(1.5246618, shape=(), dtype=float32)\n",
      "tf.Tensor(0.18030089, shape=(), dtype=float32)\n",
      "tf.Tensor(0.17857157, shape=(), dtype=float32)\n",
      "tf.Tensor(0.2783189, shape=(), dtype=float32)\n",
      "tf.Tensor(1.8775018, shape=(), dtype=float32)\n",
      "tf.Tensor(0.19926606, shape=(), dtype=float32)\n",
      "tf.Tensor(0.21652955, shape=(), dtype=float32)\n",
      "tf.Tensor(1.4081066, shape=(), dtype=float32)\n",
      "tf.Tensor(0.32083252, shape=(), dtype=float32)\n",
      "tf.Tensor(0.7285589, shape=(), dtype=float32)\n",
      "tf.Tensor(1.4756892, shape=(), dtype=float32)\n",
      "tf.Tensor(0.78704494, shape=(), dtype=float32)\n",
      "tf.Tensor(0.2208966, shape=(), dtype=float32)\n",
      "tf.Tensor(0.19492619, shape=(), dtype=float32)\n",
      "tf.Tensor(0.19779164, shape=(), dtype=float32)\n",
      "tf.Tensor(0.7880035, shape=(), dtype=float32)\n",
      "tf.Tensor(0.24033971, shape=(), dtype=float32)\n",
      "tf.Tensor(0.38081142, shape=(), dtype=float32)\n",
      "tf.Tensor(0.32282752, shape=(), dtype=float32)\n",
      "tf.Tensor(0.18839897, shape=(), dtype=float32)\n",
      "tf.Tensor(0.30571628, shape=(), dtype=float32)\n",
      "tf.Tensor(0.4867003, shape=(), dtype=float32)\n",
      "tf.Tensor(1.0900329, shape=(), dtype=float32)\n",
      "tf.Tensor(0.2001533, shape=(), dtype=float32)\n",
      "tf.Tensor(1.2586489, shape=(), dtype=float32)\n",
      "tf.Tensor(0.9925494, shape=(), dtype=float32)\n",
      "tf.Tensor(0.22146669, shape=(), dtype=float32)\n",
      "tf.Tensor(0.86933637, shape=(), dtype=float32)\n",
      "tf.Tensor(0.56512463, shape=(), dtype=float32)\n",
      "tf.Tensor(0.18215194, shape=(), dtype=float32)\n",
      "tf.Tensor(0.94423246, shape=(), dtype=float32)\n",
      "tf.Tensor(2.3972714, shape=(), dtype=float32)\n",
      "tf.Tensor(0.34068036, shape=(), dtype=float32)\n",
      "tf.Tensor(1.1141975, shape=(), dtype=float32)\n",
      "tf.Tensor(0.28724986, shape=(), dtype=float32)\n",
      "tf.Tensor(0.7646136, shape=(), dtype=float32)\n",
      "tf.Tensor(0.2905725, shape=(), dtype=float32)\n",
      "tf.Tensor(1.3580928, shape=(), dtype=float32)\n",
      "tf.Tensor(0.21168177, shape=(), dtype=float32)\n",
      "tf.Tensor(0.9706749, shape=(), dtype=float32)\n",
      "tf.Tensor(0.6705092, shape=(), dtype=float32)\n",
      "tf.Tensor(0.46861678, shape=(), dtype=float32)\n",
      "tf.Tensor(0.87943685, shape=(), dtype=float32)\n",
      "tf.Tensor(0.26334754, shape=(), dtype=float32)\n",
      "tf.Tensor(1.1794862, shape=(), dtype=float32)\n",
      "tf.Tensor(0.96567917, shape=(), dtype=float32)\n",
      "tf.Tensor(0.19842267, shape=(), dtype=float32)\n",
      "tf.Tensor(0.85897136, shape=(), dtype=float32)\n",
      "tf.Tensor(2.2448833, shape=(), dtype=float32)\n",
      "tf.Tensor(0.21650961, shape=(), dtype=float32)\n",
      "tf.Tensor(0.90943676, shape=(), dtype=float32)\n",
      "tf.Tensor(0.18708706, shape=(), dtype=float32)\n",
      "tf.Tensor(0.8021115, shape=(), dtype=float32)\n",
      "tf.Tensor(1.0198951, shape=(), dtype=float32)\n",
      "tf.Tensor(0.5427579, shape=(), dtype=float32)\n",
      "tf.Tensor(0.17814437, shape=(), dtype=float32)\n",
      "tf.Tensor(1.3745015, shape=(), dtype=float32)\n",
      "tf.Tensor(0.17916963, shape=(), dtype=float32)\n",
      "tf.Tensor(0.20455018, shape=(), dtype=float32)\n",
      "tf.Tensor(0.6835862, shape=(), dtype=float32)\n",
      "tf.Tensor(1.5357587, shape=(), dtype=float32)\n",
      "tf.Tensor(0.45958897, shape=(), dtype=float32)\n",
      "tf.Tensor(0.38827303, shape=(), dtype=float32)\n",
      "tf.Tensor(0.99401706, shape=(), dtype=float32)\n",
      "tf.Tensor(0.19806202, shape=(), dtype=float32)\n",
      "tf.Tensor(1.166681, shape=(), dtype=float32)\n",
      "tf.Tensor(0.21524516, shape=(), dtype=float32)\n",
      "tf.Tensor(1.2747296, shape=(), dtype=float32)\n",
      "tf.Tensor(0.809896, shape=(), dtype=float32)\n",
      "tf.Tensor(0.2724184, shape=(), dtype=float32)\n",
      "tf.Tensor(0.29543266, shape=(), dtype=float32)\n",
      "tf.Tensor(1.0071638, shape=(), dtype=float32)\n",
      "tf.Tensor(0.77346337, shape=(), dtype=float32)\n",
      "tf.Tensor(1.2086126, shape=(), dtype=float32)\n",
      "tf.Tensor(1.0769156, shape=(), dtype=float32)\n",
      "tf.Tensor(1.1122684, shape=(), dtype=float32)\n",
      "tf.Tensor(0.38370144, shape=(), dtype=float32)\n",
      "tf.Tensor(0.31472257, shape=(), dtype=float32)\n",
      "tf.Tensor(0.22185002, shape=(), dtype=float32)\n",
      "tf.Tensor(0.76498693, shape=(), dtype=float32)\n",
      "tf.Tensor(1.3935386, shape=(), dtype=float32)\n",
      "tf.Tensor(0.5688613, shape=(), dtype=float32)\n",
      "tf.Tensor(0.90939105, shape=(), dtype=float32)\n",
      "tf.Tensor(0.18004872, shape=(), dtype=float32)\n",
      "tf.Tensor(0.22659394, shape=(), dtype=float32)\n",
      "tf.Tensor(1.051173, shape=(), dtype=float32)\n",
      "tf.Tensor(1.2988816, shape=(), dtype=float32)\n",
      "tf.Tensor(0.7366032, shape=(), dtype=float32)\n",
      "tf.Tensor(0.31679395, shape=(), dtype=float32)\n",
      "tf.Tensor(0.3586386, shape=(), dtype=float32)\n",
      "tf.Tensor(0.24574375, shape=(), dtype=float32)\n",
      "tf.Tensor(1.254046, shape=(), dtype=float32)\n",
      "tf.Tensor(0.18025292, shape=(), dtype=float32)\n",
      "tf.Tensor(0.9934677, shape=(), dtype=float32)\n",
      "tf.Tensor(0.64614236, shape=(), dtype=float32)\n",
      "tf.Tensor(0.24623026, shape=(), dtype=float32)\n",
      "tf.Tensor(0.7411266, shape=(), dtype=float32)\n",
      "tf.Tensor(0.24141835, shape=(), dtype=float32)\n",
      "tf.Tensor(0.9141452, shape=(), dtype=float32)\n",
      "tf.Tensor(0.8174591, shape=(), dtype=float32)\n",
      "tf.Tensor(2.2471433, shape=(), dtype=float32)\n",
      "tf.Tensor(0.7024394, shape=(), dtype=float32)\n",
      "tf.Tensor(0.3202951, shape=(), dtype=float32)\n",
      "tf.Tensor(0.21751776, shape=(), dtype=float32)\n",
      "tf.Tensor(0.92030615, shape=(), dtype=float32)\n",
      "tf.Tensor(0.51976204, shape=(), dtype=float32)\n",
      "tf.Tensor(0.21496229, shape=(), dtype=float32)\n",
      "tf.Tensor(0.22019508, shape=(), dtype=float32)\n",
      "tf.Tensor(0.38129303, shape=(), dtype=float32)\n",
      "tf.Tensor(0.23851192, shape=(), dtype=float32)\n",
      "tf.Tensor(0.7810575, shape=(), dtype=float32)\n",
      "tf.Tensor(0.20837767, shape=(), dtype=float32)\n",
      "tf.Tensor(0.23140644, shape=(), dtype=float32)\n",
      "tf.Tensor(2.6818852, shape=(), dtype=float32)\n",
      "tf.Tensor(0.30307326, shape=(), dtype=float32)\n",
      "tf.Tensor(0.79122317, shape=(), dtype=float32)\n",
      "tf.Tensor(0.90717447, shape=(), dtype=float32)\n",
      "tf.Tensor(0.714364, shape=(), dtype=float32)\n",
      "tf.Tensor(0.4302423, shape=(), dtype=float32)\n",
      "tf.Tensor(1.3124658, shape=(), dtype=float32)\n",
      "tf.Tensor(0.32575536, shape=(), dtype=float32)\n",
      "tf.Tensor(0.2858836, shape=(), dtype=float32)\n",
      "tf.Tensor(0.7479771, shape=(), dtype=float32)\n",
      "tf.Tensor(1.4997315, shape=(), dtype=float32)\n",
      "tf.Tensor(0.8130315, shape=(), dtype=float32)\n",
      "tf.Tensor(0.73199934, shape=(), dtype=float32)\n",
      "tf.Tensor(1.003597, shape=(), dtype=float32)\n",
      "tf.Tensor(0.76687247, shape=(), dtype=float32)\n",
      "tf.Tensor(0.18863466, shape=(), dtype=float32)\n",
      "tf.Tensor(0.5258703, shape=(), dtype=float32)\n",
      "tf.Tensor(1.0943801, shape=(), dtype=float32)\n",
      "tf.Tensor(0.5651966, shape=(), dtype=float32)\n",
      "tf.Tensor(0.27381283, shape=(), dtype=float32)\n",
      "tf.Tensor(0.8902887, shape=(), dtype=float32)\n",
      "tf.Tensor(0.8227547, shape=(), dtype=float32)\n",
      "tf.Tensor(1.7076757, shape=(), dtype=float32)\n",
      "tf.Tensor(1.0496669, shape=(), dtype=float32)\n",
      "tf.Tensor(0.18088417, shape=(), dtype=float32)\n",
      "tf.Tensor(0.31742752, shape=(), dtype=float32)\n",
      "tf.Tensor(0.28575882, shape=(), dtype=float32)\n",
      "tf.Tensor(0.20529786, shape=(), dtype=float32)\n",
      "tf.Tensor(0.8233913, shape=(), dtype=float32)\n",
      "tf.Tensor(0.8068954, shape=(), dtype=float32)\n",
      "tf.Tensor(0.21924087, shape=(), dtype=float32)\n",
      "tf.Tensor(0.85031277, shape=(), dtype=float32)\n",
      "tf.Tensor(0.24364302, shape=(), dtype=float32)\n",
      "tf.Tensor(0.29487863, shape=(), dtype=float32)\n",
      "tf.Tensor(0.26158905, shape=(), dtype=float32)\n",
      "tf.Tensor(1.3937119, shape=(), dtype=float32)\n",
      "tf.Tensor(0.19790086, shape=(), dtype=float32)\n",
      "tf.Tensor(0.26743972, shape=(), dtype=float32)\n",
      "tf.Tensor(0.28323376, shape=(), dtype=float32)\n",
      "tf.Tensor(0.2197598, shape=(), dtype=float32)\n",
      "tf.Tensor(0.2643523, shape=(), dtype=float32)\n",
      "tf.Tensor(0.22043827, shape=(), dtype=float32)\n",
      "tf.Tensor(0.8740326, shape=(), dtype=float32)\n",
      "tf.Tensor(0.24986854, shape=(), dtype=float32)\n",
      "tf.Tensor(0.21476147, shape=(), dtype=float32)\n",
      "tf.Tensor(0.52710295, shape=(), dtype=float32)\n",
      "tf.Tensor(2.3823829, shape=(), dtype=float32)\n",
      "tf.Tensor(0.45829555, shape=(), dtype=float32)\n",
      "tf.Tensor(0.27915514, shape=(), dtype=float32)\n",
      "tf.Tensor(1.1647197, shape=(), dtype=float32)\n",
      "tf.Tensor(0.20277093, shape=(), dtype=float32)\n",
      "tf.Tensor(1.5011536, shape=(), dtype=float32)\n",
      "tf.Tensor(0.8954632, shape=(), dtype=float32)\n",
      "tf.Tensor(0.3537668, shape=(), dtype=float32)\n"
     ]
    },
    {
     "name": "stdout",
     "output_type": "stream",
     "text": [
      "tf.Tensor(0.42676908, shape=(), dtype=float32)\n",
      "tf.Tensor(0.28080332, shape=(), dtype=float32)\n",
      "tf.Tensor(1.4288297, shape=(), dtype=float32)\n",
      "tf.Tensor(0.6663093, shape=(), dtype=float32)\n",
      "tf.Tensor(0.18450561, shape=(), dtype=float32)\n",
      "tf.Tensor(0.5146436, shape=(), dtype=float32)\n",
      "tf.Tensor(0.18726669, shape=(), dtype=float32)\n",
      "tf.Tensor(0.38424227, shape=(), dtype=float32)\n",
      "tf.Tensor(0.26827306, shape=(), dtype=float32)\n",
      "tf.Tensor(0.233091, shape=(), dtype=float32)\n",
      "tf.Tensor(0.2043308, shape=(), dtype=float32)\n",
      "tf.Tensor(0.21202627, shape=(), dtype=float32)\n",
      "tf.Tensor(1.0459336, shape=(), dtype=float32)\n",
      "tf.Tensor(1.4644166, shape=(), dtype=float32)\n",
      "tf.Tensor(0.9869994, shape=(), dtype=float32)\n",
      "tf.Tensor(0.81348485, shape=(), dtype=float32)\n",
      "tf.Tensor(0.4636151, shape=(), dtype=float32)\n",
      "tf.Tensor(0.1998638, shape=(), dtype=float32)\n",
      "tf.Tensor(0.34336293, shape=(), dtype=float32)\n",
      "tf.Tensor(0.17760356, shape=(), dtype=float32)\n",
      "tf.Tensor(1.0027333, shape=(), dtype=float32)\n",
      "tf.Tensor(0.21198252, shape=(), dtype=float32)\n",
      "tf.Tensor(0.26700824, shape=(), dtype=float32)\n",
      "tf.Tensor(1.0521338, shape=(), dtype=float32)\n",
      "tf.Tensor(0.23658939, shape=(), dtype=float32)\n",
      "tf.Tensor(0.98379004, shape=(), dtype=float32)\n",
      "tf.Tensor(0.5239705, shape=(), dtype=float32)\n",
      "tf.Tensor(0.20782493, shape=(), dtype=float32)\n",
      "tf.Tensor(0.18606715, shape=(), dtype=float32)\n",
      "tf.Tensor(0.73480123, shape=(), dtype=float32)\n",
      "tf.Tensor(0.38521525, shape=(), dtype=float32)\n",
      "tf.Tensor(0.17809536, shape=(), dtype=float32)\n",
      "tf.Tensor(0.22061649, shape=(), dtype=float32)\n",
      "tf.Tensor(0.2214371, shape=(), dtype=float32)\n",
      "tf.Tensor(2.2053084, shape=(), dtype=float32)\n",
      "tf.Tensor(0.720798, shape=(), dtype=float32)\n",
      "tf.Tensor(0.21426082, shape=(), dtype=float32)\n",
      "tf.Tensor(0.5705579, shape=(), dtype=float32)\n",
      "tf.Tensor(1.2337075, shape=(), dtype=float32)\n",
      "tf.Tensor(0.96342933, shape=(), dtype=float32)\n",
      "tf.Tensor(1.7646319, shape=(), dtype=float32)\n",
      "tf.Tensor(0.18208452, shape=(), dtype=float32)\n",
      "tf.Tensor(0.18968754, shape=(), dtype=float32)\n",
      "tf.Tensor(0.22426191, shape=(), dtype=float32)\n",
      "tf.Tensor(0.8907618, shape=(), dtype=float32)\n",
      "tf.Tensor(0.80220735, shape=(), dtype=float32)\n",
      "tf.Tensor(0.20914483, shape=(), dtype=float32)\n",
      "tf.Tensor(0.30265105, shape=(), dtype=float32)\n",
      "tf.Tensor(0.20466715, shape=(), dtype=float32)\n",
      "tf.Tensor(0.9611035, shape=(), dtype=float32)\n",
      "tf.Tensor(0.6637441, shape=(), dtype=float32)\n",
      "tf.Tensor(1.0623411, shape=(), dtype=float32)\n",
      "tf.Tensor(0.19823155, shape=(), dtype=float32)\n",
      "tf.Tensor(0.2520932, shape=(), dtype=float32)\n",
      "tf.Tensor(0.19425246, shape=(), dtype=float32)\n",
      "tf.Tensor(0.9108409, shape=(), dtype=float32)\n",
      "tf.Tensor(0.5185741, shape=(), dtype=float32)\n",
      "tf.Tensor(0.26497418, shape=(), dtype=float32)\n",
      "tf.Tensor(1.0850786, shape=(), dtype=float32)\n",
      "tf.Tensor(0.3556437, shape=(), dtype=float32)\n",
      "tf.Tensor(0.8797985, shape=(), dtype=float32)\n",
      "tf.Tensor(0.7446618, shape=(), dtype=float32)\n",
      "tf.Tensor(0.7867671, shape=(), dtype=float32)\n",
      "tf.Tensor(0.19599043, shape=(), dtype=float32)\n",
      "tf.Tensor(0.37733072, shape=(), dtype=float32)\n",
      "tf.Tensor(1.0324651, shape=(), dtype=float32)\n",
      "tf.Tensor(1.2002305, shape=(), dtype=float32)\n",
      "tf.Tensor(0.20759553, shape=(), dtype=float32)\n",
      "tf.Tensor(0.9651725, shape=(), dtype=float32)\n",
      "tf.Tensor(0.3052929, shape=(), dtype=float32)\n",
      "tf.Tensor(0.35145873, shape=(), dtype=float32)\n",
      "tf.Tensor(0.3227907, shape=(), dtype=float32)\n",
      "tf.Tensor(1.1024536, shape=(), dtype=float32)\n",
      "tf.Tensor(1.8288312, shape=(), dtype=float32)\n",
      "tf.Tensor(1.1539179, shape=(), dtype=float32)\n",
      "tf.Tensor(1.8691732, shape=(), dtype=float32)\n",
      "tf.Tensor(1.7726116, shape=(), dtype=float32)\n",
      "tf.Tensor(0.5333971, shape=(), dtype=float32)\n",
      "tf.Tensor(0.58516884, shape=(), dtype=float32)\n",
      "tf.Tensor(1.1360886, shape=(), dtype=float32)\n",
      "tf.Tensor(0.7442458, shape=(), dtype=float32)\n",
      "tf.Tensor(0.19353184, shape=(), dtype=float32)\n",
      "tf.Tensor(0.7543792, shape=(), dtype=float32)\n",
      "tf.Tensor(0.1899604, shape=(), dtype=float32)\n",
      "tf.Tensor(0.39133552, shape=(), dtype=float32)\n",
      "tf.Tensor(0.5409754, shape=(), dtype=float32)\n",
      "tf.Tensor(0.2503827, shape=(), dtype=float32)\n",
      "tf.Tensor(1.2311797, shape=(), dtype=float32)\n",
      "tf.Tensor(1.259063, shape=(), dtype=float32)\n",
      "tf.Tensor(0.723718, shape=(), dtype=float32)\n",
      "tf.Tensor(0.85340387, shape=(), dtype=float32)\n",
      "tf.Tensor(0.30846542, shape=(), dtype=float32)\n",
      "tf.Tensor(0.20946029, shape=(), dtype=float32)\n",
      "tf.Tensor(1.0936956, shape=(), dtype=float32)\n",
      "tf.Tensor(0.19438913, shape=(), dtype=float32)\n",
      "tf.Tensor(0.3044172, shape=(), dtype=float32)\n",
      "tf.Tensor(0.7778947, shape=(), dtype=float32)\n",
      "tf.Tensor(0.22945885, shape=(), dtype=float32)\n",
      "tf.Tensor(1.8008251, shape=(), dtype=float32)\n",
      "tf.Tensor(0.2025719, shape=(), dtype=float32)\n",
      "tf.Tensor(0.17774448, shape=(), dtype=float32)\n",
      "tf.Tensor(1.1421144, shape=(), dtype=float32)\n",
      "tf.Tensor(2.2526915, shape=(), dtype=float32)\n",
      "tf.Tensor(0.6334538, shape=(), dtype=float32)\n",
      "tf.Tensor(0.20419934, shape=(), dtype=float32)\n",
      "tf.Tensor(0.47999883, shape=(), dtype=float32)\n",
      "tf.Tensor(1.3815932, shape=(), dtype=float32)\n",
      "tf.Tensor(0.19309859, shape=(), dtype=float32)\n",
      "tf.Tensor(0.31794503, shape=(), dtype=float32)\n",
      "tf.Tensor(0.2402547, shape=(), dtype=float32)\n",
      "tf.Tensor(0.18141362, shape=(), dtype=float32)\n",
      "tf.Tensor(0.4928637, shape=(), dtype=float32)\n",
      "tf.Tensor(0.2237831, shape=(), dtype=float32)\n",
      "tf.Tensor(0.2141525, shape=(), dtype=float32)\n",
      "tf.Tensor(1.9151669, shape=(), dtype=float32)\n",
      "tf.Tensor(0.5544404, shape=(), dtype=float32)\n",
      "tf.Tensor(0.74180436, shape=(), dtype=float32)\n",
      "tf.Tensor(1.416709, shape=(), dtype=float32)\n",
      "tf.Tensor(0.19474764, shape=(), dtype=float32)\n",
      "tf.Tensor(1.0616233, shape=(), dtype=float32)\n",
      "tf.Tensor(0.26091486, shape=(), dtype=float32)\n",
      "tf.Tensor(0.20100449, shape=(), dtype=float32)\n",
      "tf.Tensor(0.56890804, shape=(), dtype=float32)\n",
      "tf.Tensor(0.43249908, shape=(), dtype=float32)\n",
      "tf.Tensor(0.9511007, shape=(), dtype=float32)\n",
      "tf.Tensor(0.38327035, shape=(), dtype=float32)\n",
      "tf.Tensor(0.20177783, shape=(), dtype=float32)\n",
      "tf.Tensor(1.3980591, shape=(), dtype=float32)\n",
      "tf.Tensor(0.19573085, shape=(), dtype=float32)\n",
      "tf.Tensor(1.424352, shape=(), dtype=float32)\n",
      "tf.Tensor(1.0418766, shape=(), dtype=float32)\n",
      "tf.Tensor(0.20939982, shape=(), dtype=float32)\n",
      "tf.Tensor(0.8837034, shape=(), dtype=float32)\n",
      "tf.Tensor(1.8598346, shape=(), dtype=float32)\n",
      "tf.Tensor(0.26190954, shape=(), dtype=float32)\n",
      "tf.Tensor(2.49513, shape=(), dtype=float32)\n",
      "tf.Tensor(0.18962562, shape=(), dtype=float32)\n",
      "tf.Tensor(0.21823797, shape=(), dtype=float32)\n",
      "tf.Tensor(0.22552435, shape=(), dtype=float32)\n",
      "tf.Tensor(0.9059092, shape=(), dtype=float32)\n",
      "tf.Tensor(2.9810581, shape=(), dtype=float32)\n",
      "tf.Tensor(1.2490019, shape=(), dtype=float32)\n",
      "tf.Tensor(0.61427927, shape=(), dtype=float32)\n",
      "tf.Tensor(2.3153486, shape=(), dtype=float32)\n",
      "tf.Tensor(0.64617103, shape=(), dtype=float32)\n",
      "tf.Tensor(0.22999598, shape=(), dtype=float32)\n",
      "tf.Tensor(1.0519038, shape=(), dtype=float32)\n",
      "tf.Tensor(2.5158482, shape=(), dtype=float32)\n",
      "tf.Tensor(0.18147473, shape=(), dtype=float32)\n",
      "tf.Tensor(1.0219935, shape=(), dtype=float32)\n",
      "tf.Tensor(1.6024007, shape=(), dtype=float32)\n",
      "tf.Tensor(1.0641675, shape=(), dtype=float32)\n",
      "tf.Tensor(0.26391748, shape=(), dtype=float32)\n",
      "tf.Tensor(0.28392765, shape=(), dtype=float32)\n",
      "tf.Tensor(1.0838423, shape=(), dtype=float32)\n",
      "tf.Tensor(0.30255482, shape=(), dtype=float32)\n",
      "tf.Tensor(1.4010444, shape=(), dtype=float32)\n",
      "tf.Tensor(0.29791704, shape=(), dtype=float32)\n",
      "tf.Tensor(1.2588089, shape=(), dtype=float32)\n",
      "tf.Tensor(0.26865458, shape=(), dtype=float32)\n",
      "tf.Tensor(0.18534929, shape=(), dtype=float32)\n",
      "tf.Tensor(1.3764056, shape=(), dtype=float32)\n",
      "tf.Tensor(1.7270324, shape=(), dtype=float32)\n",
      "tf.Tensor(1.1979858, shape=(), dtype=float32)\n",
      "tf.Tensor(0.9007047, shape=(), dtype=float32)\n",
      "tf.Tensor(1.1589482, shape=(), dtype=float32)\n",
      "tf.Tensor(0.2476139, shape=(), dtype=float32)\n",
      "tf.Tensor(2.1892145, shape=(), dtype=float32)\n",
      "tf.Tensor(1.1477016, shape=(), dtype=float32)\n",
      "tf.Tensor(0.9029769, shape=(), dtype=float32)\n",
      "tf.Tensor(0.8370187, shape=(), dtype=float32)\n",
      "tf.Tensor(0.22490901, shape=(), dtype=float32)\n",
      "tf.Tensor(0.77367795, shape=(), dtype=float32)\n",
      "tf.Tensor(0.5718911, shape=(), dtype=float32)\n",
      "tf.Tensor(0.19753306, shape=(), dtype=float32)\n",
      "tf.Tensor(0.50158215, shape=(), dtype=float32)\n",
      "tf.Tensor(0.210023, shape=(), dtype=float32)\n",
      "tf.Tensor(0.85390604, shape=(), dtype=float32)\n",
      "tf.Tensor(0.82348865, shape=(), dtype=float32)\n",
      "tf.Tensor(1.5101831, shape=(), dtype=float32)\n",
      "tf.Tensor(0.7998563, shape=(), dtype=float32)\n",
      "tf.Tensor(0.2137372, shape=(), dtype=float32)\n"
     ]
    },
    {
     "name": "stdout",
     "output_type": "stream",
     "text": [
      "tf.Tensor(0.71614695, shape=(), dtype=float32)\n",
      "tf.Tensor(0.6008271, shape=(), dtype=float32)\n",
      "tf.Tensor(1.2748007, shape=(), dtype=float32)\n",
      "tf.Tensor(2.081863, shape=(), dtype=float32)\n",
      "tf.Tensor(0.1794922, shape=(), dtype=float32)\n",
      "tf.Tensor(1.2741398, shape=(), dtype=float32)\n",
      "tf.Tensor(0.36441147, shape=(), dtype=float32)\n",
      "tf.Tensor(0.7284198, shape=(), dtype=float32)\n",
      "tf.Tensor(0.3022203, shape=(), dtype=float32)\n",
      "tf.Tensor(0.27868763, shape=(), dtype=float32)\n",
      "tf.Tensor(0.4220792, shape=(), dtype=float32)\n",
      "tf.Tensor(0.29877427, shape=(), dtype=float32)\n",
      "tf.Tensor(0.55997086, shape=(), dtype=float32)\n",
      "tf.Tensor(0.68653595, shape=(), dtype=float32)\n",
      "tf.Tensor(0.26864415, shape=(), dtype=float32)\n",
      "tf.Tensor(0.24723244, shape=(), dtype=float32)\n",
      "tf.Tensor(1.011644, shape=(), dtype=float32)\n",
      "tf.Tensor(0.24195078, shape=(), dtype=float32)\n",
      "tf.Tensor(0.22141825, shape=(), dtype=float32)\n",
      "tf.Tensor(0.244801, shape=(), dtype=float32)\n",
      "tf.Tensor(0.99347395, shape=(), dtype=float32)\n",
      "tf.Tensor(0.28087556, shape=(), dtype=float32)\n",
      "tf.Tensor(0.7835113, shape=(), dtype=float32)\n",
      "tf.Tensor(1.0117408, shape=(), dtype=float32)\n",
      "tf.Tensor(1.3645183, shape=(), dtype=float32)\n",
      "tf.Tensor(0.33272013, shape=(), dtype=float32)\n",
      "tf.Tensor(0.6031659, shape=(), dtype=float32)\n",
      "tf.Tensor(0.20168754, shape=(), dtype=float32)\n",
      "tf.Tensor(0.4768037, shape=(), dtype=float32)\n",
      "tf.Tensor(1.0064887, shape=(), dtype=float32)\n",
      "tf.Tensor(0.7507736, shape=(), dtype=float32)\n",
      "tf.Tensor(1.3949805, shape=(), dtype=float32)\n",
      "tf.Tensor(0.1805402, shape=(), dtype=float32)\n",
      "tf.Tensor(0.21178131, shape=(), dtype=float32)\n",
      "tf.Tensor(1.453989, shape=(), dtype=float32)\n",
      "tf.Tensor(0.27626956, shape=(), dtype=float32)\n",
      "tf.Tensor(0.18542092, shape=(), dtype=float32)\n",
      "tf.Tensor(1.0436157, shape=(), dtype=float32)\n",
      "tf.Tensor(0.29121506, shape=(), dtype=float32)\n",
      "tf.Tensor(0.23805963, shape=(), dtype=float32)\n",
      "tf.Tensor(0.2772621, shape=(), dtype=float32)\n",
      "tf.Tensor(2.097139, shape=(), dtype=float32)\n",
      "tf.Tensor(0.22986268, shape=(), dtype=float32)\n",
      "tf.Tensor(1.4427906, shape=(), dtype=float32)\n",
      "tf.Tensor(0.22145274, shape=(), dtype=float32)\n",
      "tf.Tensor(0.22423097, shape=(), dtype=float32)\n",
      "tf.Tensor(0.27647132, shape=(), dtype=float32)\n",
      "tf.Tensor(0.2856263, shape=(), dtype=float32)\n",
      "tf.Tensor(0.22004466, shape=(), dtype=float32)\n",
      "tf.Tensor(0.8331417, shape=(), dtype=float32)\n",
      "tf.Tensor(1.7466048, shape=(), dtype=float32)\n",
      "tf.Tensor(0.32365316, shape=(), dtype=float32)\n",
      "tf.Tensor(0.615768, shape=(), dtype=float32)\n",
      "tf.Tensor(0.2743218, shape=(), dtype=float32)\n",
      "tf.Tensor(0.7628472, shape=(), dtype=float32)\n",
      "tf.Tensor(0.20889097, shape=(), dtype=float32)\n",
      "tf.Tensor(0.8537443, shape=(), dtype=float32)\n",
      "tf.Tensor(0.28890234, shape=(), dtype=float32)\n",
      "tf.Tensor(0.26487273, shape=(), dtype=float32)\n",
      "tf.Tensor(0.3327685, shape=(), dtype=float32)\n",
      "tf.Tensor(0.7245679, shape=(), dtype=float32)\n",
      "tf.Tensor(0.27131745, shape=(), dtype=float32)\n",
      "tf.Tensor(0.8373214, shape=(), dtype=float32)\n",
      "tf.Tensor(0.5034964, shape=(), dtype=float32)\n",
      "tf.Tensor(0.9666536, shape=(), dtype=float32)\n",
      "tf.Tensor(0.64945275, shape=(), dtype=float32)\n",
      "tf.Tensor(0.33965883, shape=(), dtype=float32)\n",
      "tf.Tensor(0.31282, shape=(), dtype=float32)\n",
      "tf.Tensor(0.17925577, shape=(), dtype=float32)\n",
      "tf.Tensor(0.22045039, shape=(), dtype=float32)\n",
      "tf.Tensor(0.21310192, shape=(), dtype=float32)\n",
      "tf.Tensor(0.18667147, shape=(), dtype=float32)\n",
      "tf.Tensor(0.19096895, shape=(), dtype=float32)\n",
      "tf.Tensor(0.6919899, shape=(), dtype=float32)\n",
      "tf.Tensor(0.20682088, shape=(), dtype=float32)\n",
      "tf.Tensor(0.20807697, shape=(), dtype=float32)\n",
      "tf.Tensor(0.19090743, shape=(), dtype=float32)\n",
      "tf.Tensor(0.35687095, shape=(), dtype=float32)\n",
      "tf.Tensor(1.0323433, shape=(), dtype=float32)\n",
      "tf.Tensor(0.2648294, shape=(), dtype=float32)\n",
      "tf.Tensor(0.774197, shape=(), dtype=float32)\n",
      "tf.Tensor(0.22147521, shape=(), dtype=float32)\n",
      "tf.Tensor(1.1558073, shape=(), dtype=float32)\n",
      "tf.Tensor(0.7553752, shape=(), dtype=float32)\n",
      "tf.Tensor(1.8515614, shape=(), dtype=float32)\n",
      "tf.Tensor(0.7765045, shape=(), dtype=float32)\n",
      "tf.Tensor(1.6891919, shape=(), dtype=float32)\n",
      "tf.Tensor(0.32115662, shape=(), dtype=float32)\n",
      "tf.Tensor(0.1809027, shape=(), dtype=float32)\n",
      "tf.Tensor(0.48792124, shape=(), dtype=float32)\n",
      "tf.Tensor(1.5250369, shape=(), dtype=float32)\n",
      "tf.Tensor(0.2556134, shape=(), dtype=float32)\n",
      "tf.Tensor(1.900114, shape=(), dtype=float32)\n",
      "tf.Tensor(1.1933885, shape=(), dtype=float32)\n",
      "tf.Tensor(0.8536776, shape=(), dtype=float32)\n",
      "tf.Tensor(0.17878549, shape=(), dtype=float32)\n",
      "tf.Tensor(0.29079556, shape=(), dtype=float32)\n",
      "tf.Tensor(1.5253775, shape=(), dtype=float32)\n",
      "tf.Tensor(0.20959693, shape=(), dtype=float32)\n",
      "tf.Tensor(1.0088042, shape=(), dtype=float32)\n",
      "tf.Tensor(0.6048459, shape=(), dtype=float32)\n",
      "tf.Tensor(1.6875625, shape=(), dtype=float32)\n",
      "tf.Tensor(0.24608555, shape=(), dtype=float32)\n",
      "tf.Tensor(0.8545498, shape=(), dtype=float32)\n",
      "tf.Tensor(1.7848343, shape=(), dtype=float32)\n",
      "tf.Tensor(0.646841, shape=(), dtype=float32)\n",
      "tf.Tensor(0.75019807, shape=(), dtype=float32)\n",
      "tf.Tensor(0.9736296, shape=(), dtype=float32)\n",
      "tf.Tensor(0.58495545, shape=(), dtype=float32)\n",
      "tf.Tensor(0.5827569, shape=(), dtype=float32)\n",
      "tf.Tensor(0.89162767, shape=(), dtype=float32)\n",
      "tf.Tensor(1.0792942, shape=(), dtype=float32)\n",
      "tf.Tensor(0.646219, shape=(), dtype=float32)\n",
      "tf.Tensor(0.18952571, shape=(), dtype=float32)\n",
      "tf.Tensor(0.8190178, shape=(), dtype=float32)\n",
      "tf.Tensor(3.1372495, shape=(), dtype=float32)\n",
      "tf.Tensor(0.23214857, shape=(), dtype=float32)\n",
      "tf.Tensor(0.23994794, shape=(), dtype=float32)\n",
      "tf.Tensor(0.1800466, shape=(), dtype=float32)\n",
      "tf.Tensor(0.18357448, shape=(), dtype=float32)\n",
      "tf.Tensor(1.306635, shape=(), dtype=float32)\n",
      "tf.Tensor(0.31810713, shape=(), dtype=float32)\n",
      "tf.Tensor(0.18157427, shape=(), dtype=float32)\n",
      "tf.Tensor(0.2798899, shape=(), dtype=float32)\n",
      "tf.Tensor(0.20940751, shape=(), dtype=float32)\n",
      "tf.Tensor(1.0246357, shape=(), dtype=float32)\n",
      "tf.Tensor(0.2700618, shape=(), dtype=float32)\n",
      "tf.Tensor(1.452146, shape=(), dtype=float32)\n",
      "tf.Tensor(0.7348495, shape=(), dtype=float32)\n",
      "tf.Tensor(0.20502776, shape=(), dtype=float32)\n",
      "tf.Tensor(0.2055939, shape=(), dtype=float32)\n",
      "tf.Tensor(0.23113526, shape=(), dtype=float32)\n",
      "tf.Tensor(0.18337756, shape=(), dtype=float32)\n",
      "tf.Tensor(0.18755701, shape=(), dtype=float32)\n",
      "tf.Tensor(0.5486721, shape=(), dtype=float32)\n",
      "tf.Tensor(0.45757467, shape=(), dtype=float32)\n",
      "tf.Tensor(0.23778585, shape=(), dtype=float32)\n",
      "tf.Tensor(0.35019457, shape=(), dtype=float32)\n",
      "tf.Tensor(0.37621823, shape=(), dtype=float32)\n",
      "tf.Tensor(0.25739473, shape=(), dtype=float32)\n",
      "tf.Tensor(0.2564873, shape=(), dtype=float32)\n",
      "tf.Tensor(2.2052376, shape=(), dtype=float32)\n",
      "tf.Tensor(0.30132568, shape=(), dtype=float32)\n",
      "tf.Tensor(1.102768, shape=(), dtype=float32)\n",
      "tf.Tensor(0.627629, shape=(), dtype=float32)\n",
      "tf.Tensor(0.4487773, shape=(), dtype=float32)\n",
      "tf.Tensor(0.8264626, shape=(), dtype=float32)\n",
      "tf.Tensor(0.26368383, shape=(), dtype=float32)\n",
      "tf.Tensor(0.22336082, shape=(), dtype=float32)\n",
      "tf.Tensor(1.5339245, shape=(), dtype=float32)\n",
      "tf.Tensor(0.94208664, shape=(), dtype=float32)\n",
      "tf.Tensor(1.246244, shape=(), dtype=float32)\n",
      "tf.Tensor(0.7104758, shape=(), dtype=float32)\n",
      "tf.Tensor(1.9843217, shape=(), dtype=float32)\n",
      "tf.Tensor(0.19266598, shape=(), dtype=float32)\n",
      "tf.Tensor(0.22947381, shape=(), dtype=float32)\n",
      "tf.Tensor(0.2561775, shape=(), dtype=float32)\n",
      "tf.Tensor(0.18040588, shape=(), dtype=float32)\n",
      "tf.Tensor(0.36034504, shape=(), dtype=float32)\n",
      "tf.Tensor(1.5618403, shape=(), dtype=float32)\n",
      "tf.Tensor(1.1456854, shape=(), dtype=float32)\n",
      "tf.Tensor(0.9219746, shape=(), dtype=float32)\n",
      "tf.Tensor(0.20973496, shape=(), dtype=float32)\n",
      "tf.Tensor(0.22519273, shape=(), dtype=float32)\n",
      "tf.Tensor(0.19902861, shape=(), dtype=float32)\n",
      "tf.Tensor(0.70959604, shape=(), dtype=float32)\n",
      "tf.Tensor(0.920728, shape=(), dtype=float32)\n",
      "tf.Tensor(1.3648685, shape=(), dtype=float32)\n",
      "tf.Tensor(0.21589796, shape=(), dtype=float32)\n",
      "tf.Tensor(0.19202113, shape=(), dtype=float32)\n",
      "tf.Tensor(0.2651644, shape=(), dtype=float32)\n",
      "tf.Tensor(0.7811094, shape=(), dtype=float32)\n",
      "tf.Tensor(0.21622863, shape=(), dtype=float32)\n",
      "tf.Tensor(0.42222607, shape=(), dtype=float32)\n",
      "tf.Tensor(0.24414663, shape=(), dtype=float32)\n",
      "tf.Tensor(0.5353725, shape=(), dtype=float32)\n",
      "tf.Tensor(0.2839872, shape=(), dtype=float32)\n",
      "tf.Tensor(0.74086016, shape=(), dtype=float32)\n",
      "tf.Tensor(0.42807093, shape=(), dtype=float32)\n"
     ]
    },
    {
     "name": "stdout",
     "output_type": "stream",
     "text": [
      "tf.Tensor(0.2511802, shape=(), dtype=float32)\n",
      "tf.Tensor(0.27047578, shape=(), dtype=float32)\n",
      "tf.Tensor(1.2383028, shape=(), dtype=float32)\n",
      "tf.Tensor(0.24190918, shape=(), dtype=float32)\n",
      "tf.Tensor(0.78764373, shape=(), dtype=float32)\n",
      "tf.Tensor(0.30642158, shape=(), dtype=float32)\n",
      "tf.Tensor(0.20631081, shape=(), dtype=float32)\n",
      "tf.Tensor(0.189174, shape=(), dtype=float32)\n",
      "tf.Tensor(1.1063013, shape=(), dtype=float32)\n",
      "tf.Tensor(1.8298407, shape=(), dtype=float32)\n",
      "tf.Tensor(0.23778243, shape=(), dtype=float32)\n",
      "tf.Tensor(0.798185, shape=(), dtype=float32)\n",
      "tf.Tensor(0.7179265, shape=(), dtype=float32)\n",
      "tf.Tensor(0.82548577, shape=(), dtype=float32)\n",
      "tf.Tensor(0.7571816, shape=(), dtype=float32)\n",
      "tf.Tensor(0.75270814, shape=(), dtype=float32)\n",
      "tf.Tensor(0.86522335, shape=(), dtype=float32)\n",
      "tf.Tensor(0.43815178, shape=(), dtype=float32)\n",
      "tf.Tensor(0.2553883, shape=(), dtype=float32)\n",
      "tf.Tensor(0.652843, shape=(), dtype=float32)\n",
      "tf.Tensor(0.21831484, shape=(), dtype=float32)\n",
      "tf.Tensor(1.8118331, shape=(), dtype=float32)\n",
      "tf.Tensor(0.23692316, shape=(), dtype=float32)\n",
      "tf.Tensor(0.20002942, shape=(), dtype=float32)\n",
      "tf.Tensor(2.71162, shape=(), dtype=float32)\n",
      "tf.Tensor(0.17981303, shape=(), dtype=float32)\n",
      "tf.Tensor(0.2844406, shape=(), dtype=float32)\n",
      "tf.Tensor(0.17944314, shape=(), dtype=float32)\n",
      "tf.Tensor(1.1497598, shape=(), dtype=float32)\n",
      "tf.Tensor(0.94490033, shape=(), dtype=float32)\n",
      "tf.Tensor(0.18931052, shape=(), dtype=float32)\n",
      "tf.Tensor(1.3100064, shape=(), dtype=float32)\n",
      "tf.Tensor(1.2423608, shape=(), dtype=float32)\n",
      "tf.Tensor(0.74994, shape=(), dtype=float32)\n",
      "tf.Tensor(0.20535032, shape=(), dtype=float32)\n",
      "tf.Tensor(1.1110411, shape=(), dtype=float32)\n",
      "tf.Tensor(0.22344443, shape=(), dtype=float32)\n",
      "tf.Tensor(0.9288781, shape=(), dtype=float32)\n",
      "tf.Tensor(1.3054305, shape=(), dtype=float32)\n",
      "tf.Tensor(0.21766266, shape=(), dtype=float32)\n",
      "tf.Tensor(1.2183485, shape=(), dtype=float32)\n",
      "tf.Tensor(1.5923007, shape=(), dtype=float32)\n",
      "tf.Tensor(0.5102703, shape=(), dtype=float32)\n",
      "tf.Tensor(0.31146508, shape=(), dtype=float32)\n",
      "tf.Tensor(1.0208229, shape=(), dtype=float32)\n",
      "tf.Tensor(0.77767146, shape=(), dtype=float32)\n",
      "tf.Tensor(0.28992724, shape=(), dtype=float32)\n",
      "tf.Tensor(0.29020965, shape=(), dtype=float32)\n",
      "tf.Tensor(0.6643967, shape=(), dtype=float32)\n",
      "tf.Tensor(0.21290758, shape=(), dtype=float32)\n",
      "tf.Tensor(0.872611, shape=(), dtype=float32)\n",
      "tf.Tensor(1.5523518, shape=(), dtype=float32)\n",
      "tf.Tensor(0.22469659, shape=(), dtype=float32)\n",
      "tf.Tensor(0.19195053, shape=(), dtype=float32)\n",
      "tf.Tensor(0.7069833, shape=(), dtype=float32)\n",
      "tf.Tensor(0.37979865, shape=(), dtype=float32)\n",
      "tf.Tensor(1.2427677, shape=(), dtype=float32)\n",
      "tf.Tensor(0.2056934, shape=(), dtype=float32)\n",
      "tf.Tensor(1.2729667, shape=(), dtype=float32)\n",
      "tf.Tensor(0.62003297, shape=(), dtype=float32)\n",
      "tf.Tensor(0.73774946, shape=(), dtype=float32)\n",
      "tf.Tensor(1.2515298, shape=(), dtype=float32)\n",
      "tf.Tensor(0.22428066, shape=(), dtype=float32)\n",
      "tf.Tensor(0.20783001, shape=(), dtype=float32)\n",
      "tf.Tensor(0.8349473, shape=(), dtype=float32)\n",
      "tf.Tensor(1.0985539, shape=(), dtype=float32)\n",
      "tf.Tensor(0.92123884, shape=(), dtype=float32)\n",
      "tf.Tensor(0.26198483, shape=(), dtype=float32)\n",
      "tf.Tensor(0.29107603, shape=(), dtype=float32)\n",
      "tf.Tensor(0.7177969, shape=(), dtype=float32)\n",
      "tf.Tensor(0.9605426, shape=(), dtype=float32)\n",
      "tf.Tensor(0.26661822, shape=(), dtype=float32)\n",
      "tf.Tensor(0.33320755, shape=(), dtype=float32)\n",
      "tf.Tensor(0.9476667, shape=(), dtype=float32)\n",
      "tf.Tensor(0.7975214, shape=(), dtype=float32)\n",
      "tf.Tensor(0.20240305, shape=(), dtype=float32)\n",
      "tf.Tensor(1.6809013, shape=(), dtype=float32)\n",
      "tf.Tensor(0.20551267, shape=(), dtype=float32)\n",
      "tf.Tensor(0.8702888, shape=(), dtype=float32)\n"
     ]
    }
   ],
   "source": [
    "import numpy as np\n",
    "import tensorflow as tf\n",
    "from tensorflow.keras.models import load_model \n",
    "import os \n",
    "from scipy import ndimage\n",
    "g = os.walk(r'E:\\NTNU1-2\\Nyx\\NyxDataSet\\NyxDataSet64_64_64')  #每次記得要改\n",
    "rmse_percentage_collect = []\n",
    "disPoint_collect = []\n",
    "realdata_collect = []\n",
    "fakedata_collect = []\n",
    "#from generator import generator\n",
    "#from discriminator import discriminator\n",
    "#model = generator()\n",
    "#model = discriminator()\n",
    "#model.load_weights(r\"E:\\NTNU1-2\\Nyx\\NyxDataSet\\wgan\\2020-8-22_18-18\\gen\" + \"\\\\trained_ckpt\")\n",
    "#model = load_model(r'E:\\NTNU1-2\\Nyx\\NyxDataSet\\wgan\\2020-8-17_12-15\\run-0')   #每次記得要改\n",
    "\n",
    "for path,dir_list,file_list in g:  \n",
    "    for file_name in file_list:\n",
    "        tmp_data = np.fromfile(path+'\\\\'+file_name, dtype = 'float32').reshape(64,64,64)\n",
    "        #test = ndimage.zoom(tmp_data, (0.25,0.25,0.25))\n",
    "        #print(test.shape)\n",
    "        #tmp_data.tofile(f'Nyx-{file_list.index(file_name)}.bin')\n",
    "        realdata_collect.append(tmp_data)\n",
    "        inputs1 = tf.constant([np.float(file_name[5:12])])\n",
    "        inputs2 = tf.constant([np.float(file_name[13:20])])\n",
    "        inputs3 = tf.constant([np.float(file_name[21:28])])\n",
    "        predict = model.predict([inputs1, inputs2, inputs3]).reshape(64,64,64)\n",
    "        fakedata_collect.append(predict)\n",
    "        rmse = tf.sqrt(tf.reduce_mean((tmp_data - predict)**2)) / (tf.reduce_max(tmp_data) - tf.reduce_min(tmp_data))\n",
    "        l2 = tf.norm((tmp_data - predict)) \n",
    "        Rsquard = 1- np.mean((tmp_data-predict)**2)/ tf.math.reduce_variance(tmp_data)\n",
    "        rmse_percentage = rmse * 100\n",
    "        #predict.tofile(f'NyxPredict-{file_list.index(file_name)}.bin')\n",
    "        print(rmse_percentage)\n",
    "        #rmse_percentage_collect.append(rmse_percentage.numpy())\n",
    "        \n",
    "        \n",
    "#         predict = model.predict(tmp_data)\n",
    "#         print(predict)\n",
    "#         disPoint_collect.append(predict)\n",
    "        "
   ]
  },
  {
   "cell_type": "code",
   "execution_count": 6,
   "metadata": {},
   "outputs": [],
   "source": [
    "for i in range(len(fakedata_collect)):\n",
    "    fakedata_collect[i].tofile(r'E:\\NTNU1-2\\Nyx\\NyxDataSet\\wgan\\2020-8-22_20-12_64cube_0.12%\\predict' + f'\\\\64cubePredict-{i}.bin')"
   ]
  },
  {
   "cell_type": "code",
   "execution_count": 64,
   "metadata": {},
   "outputs": [],
   "source": [
    "d = np.array(disPoint_collect)\n",
    "d = d[700:]\n",
    "d = (d - np.min(d)) / (np.max(d) - np.min(d))\n",
    "\n",
    "d = d.reshape(d.shape[0], 1)\n",
    "\n",
    "d -= 1\n",
    "d = abs(d)"
   ]
  },
  {
   "cell_type": "code",
   "execution_count": 65,
   "metadata": {},
   "outputs": [
    {
     "data": {
      "text/plain": [
       "[<matplotlib.lines.Line2D at 0x262b7441448>]"
      ]
     },
     "execution_count": 65,
     "metadata": {},
     "output_type": "execute_result"
    },
    {
     "data": {
      "image/png": "[encoded data removed]",
      "text/plain": [
       "<Figure size 432x288 with 1 Axes>"
      ]
     },
     "metadata": {
      "needs_background": "light"
     },
     "output_type": "display_data"
    }
   ],
   "source": [
    "import matplotlib.pyplot as plt\n",
    "plt.plot(range(d.shape[0]), d)"
   ]
  },
  {
   "cell_type": "code",
   "execution_count": 61,
   "metadata": {},
   "outputs": [
    {
     "data": {
      "text/plain": [
       "(99, 16, 16, 16)"
      ]
     },
     "execution_count": 61,
     "metadata": {},
     "output_type": "execute_result"
    }
   ],
   "source": [
    "d = np.array(realdata_collect)\n",
    "d = d[700:]\n",
    "#d = (d - np.min(d)) / (np.max(d) - np.min(d))\n",
    "d = d.reshape(d.shape[0], 16,16,16)\n",
    "\n",
    "d.shape"
   ]
  },
  {
   "cell_type": "code",
   "execution_count": 58,
   "metadata": {},
   "outputs": [],
   "source": [
    "tmpp = []\n",
    "for i in range(d.shape[0]):\n",
    "    tmpp.append(tf.norm(d[i]))\n",
    "tmpp = np.array(tmpp)"
   ]
  },
  {
   "cell_type": "code",
   "execution_count": 59,
   "metadata": {},
   "outputs": [],
   "source": [
    "tmpp = (tmpp - np.min(tmpp)) / (np.max(tmpp) - np.min(tmpp))"
   ]
  },
  {
   "cell_type": "code",
   "execution_count": 60,
   "metadata": {
    "scrolled": true
   },
   "outputs": [
    {
     "data": {
      "text/plain": [
       "[<matplotlib.lines.Line2D at 0x262b76fefc8>]"
      ]
     },
     "execution_count": 60,
     "metadata": {},
     "output_type": "execute_result"
    },
    {
     "data": {
      "image/png": "[encoded data removed]",
      "text/plain": [
       "<Figure size 432x288 with 1 Axes>"
      ]
     },
     "metadata": {
      "needs_background": "light"
     },
     "output_type": "display_data"
    }
   ],
   "source": [
    "plt.plot(range(tmpp.shape[0]), tmpp)"
   ]
  },
  {
   "cell_type": "code",
   "execution_count": 6,
   "metadata": {},
   "outputs": [
    {
     "data": {
      "text/plain": [
       "1526911600.0"
      ]
     },
     "execution_count": 6,
     "metadata": {},
     "output_type": "execute_result"
    }
   ],
   "source": [
    "np.min(realdata_collect[0])"
   ]
  },
  {
   "cell_type": "code",
   "execution_count": 9,
   "metadata": {},
   "outputs": [
    {
     "data": {
      "text/plain": [
       "-0.017210735"
      ]
     },
     "execution_count": 9,
     "metadata": {},
     "output_type": "execute_result"
    }
   ],
   "source": [
    "np.min(fakedata_collect[0])"
   ]
  },
  {
   "cell_type": "code",
   "execution_count": 14,
   "metadata": {},
   "outputs": [
    {
     "data": {
      "text/plain": [
       "<tf.Tensor: shape=(3, 3, 3), dtype=float32, numpy=\n",
       "array([[[1., 2., 3.],\n",
       "        [4., 5., 6.],\n",
       "        [7., 8., 9.]],\n",
       "\n",
       "       [[1., 2., 3.],\n",
       "        [4., 5., 6.],\n",
       "        [7., 8., 9.]],\n",
       "\n",
       "       [[1., 2., 3.],\n",
       "        [4., 5., 6.],\n",
       "        [7., 8., 9.]]], dtype=float32)>"
      ]
     },
     "execution_count": 14,
     "metadata": {},
     "output_type": "execute_result"
    }
   ],
   "source": [
    "a = tf.constant([[[1,2,3], [4,5,6], [7,8,9]], [[1,2,3], [4,5,6], [7,8,9]], [[1,2,3], [4,5,6], [7,8,9]]], dtype=tf.float32)\n",
    "a"
   ]
  },
  {
   "cell_type": "code",
   "execution_count": 34,
   "metadata": {},
   "outputs": [
    {
     "data": {
      "text/plain": [
       "<tf.Tensor: shape=(), dtype=float32, numpy=15.992148>"
      ]
     },
     "execution_count": 34,
     "metadata": {},
     "output_type": "execute_result"
    }
   ],
   "source": [
    "tf.norm((fakedata_collect[3]-realdata_collect[3]))/(tf.reduce_max(realdata_collect[3]) - tf.reduce_min(realdata_collect[3]))"
   ]
  },
  {
   "cell_type": "code",
   "execution_count": 32,
   "metadata": {},
   "outputs": [
    {
     "data": {
      "text/plain": [
       "<tf.Tensor: shape=(), dtype=float32, numpy=4521518000.0>"
      ]
     },
     "execution_count": 32,
     "metadata": {},
     "output_type": "execute_result"
    }
   ],
   "source": [
    "tf.sqrt(tf.reduce_mean((fakedata_collect[3]-realdata_collect[3])**2))"
   ]
  },
  {
   "cell_type": "code",
   "execution_count": 38,
   "metadata": {},
   "outputs": [
    {
     "data": {
      "text/plain": [
       "<tf.Tensor: shape=(), dtype=float32, numpy=0.32025465>"
      ]
     },
     "execution_count": 38,
     "metadata": {},
     "output_type": "execute_result"
    }
   ],
   "source": [
    "(tf.norm((tf.constant(np.array(fakedata_collect))-tf.constant(np.array(realdata_collect)))) /799 ) / (tf.reduce_max(realdata_collect) - tf.reduce_min(realdata_collect))"
   ]
  },
  {
   "cell_type": "code",
   "execution_count": 28,
   "metadata": {},
   "outputs": [
    {
     "data": {
      "text/plain": [
       "<tf.Tensor: shape=(), dtype=float32, numpy=144759620000.0>"
      ]
     },
     "execution_count": 28,
     "metadata": {},
     "output_type": "execute_result"
    }
   ],
   "source": [
    "(tf.reduce_max(realdata_collect[3]) - tf.reduce_min(realdata_collect[3]))"
   ]
  },
  {
   "cell_type": "code",
   "execution_count": 29,
   "metadata": {},
   "outputs": [
    {
     "data": {
      "text/plain": [
       "<tf.Tensor: shape=(), dtype=float32, numpy=516430400.0>"
      ]
     },
     "execution_count": 29,
     "metadata": {},
     "output_type": "execute_result"
    }
   ],
   "source": [
    "tf.reduce_min(realdata_collect[3])"
   ]
  },
  {
   "cell_type": "code",
   "execution_count": null,
   "metadata": {},
   "outputs": [],
   "source": []
  }
 ],
 "metadata": {
  "kernelspec": {
   "display_name": "Python 3.7.6 64-bit ('2.1.0-gpu': conda)",
   "language": "python",
   "name": "python37664bit210gpuconda4d41b7294bd94f81a9253fc8759eb436"
  },
  "language_info": {
   "codemirror_mode": {
    "name": "ipython",
    "version": 3
   },
   "file_extension": ".py",
   "mimetype": "text/x-python",
   "name": "python",
   "nbconvert_exporter": "python",
   "pygments_lexer": "ipython3",
   "version": "3.7.6"
  }
 },
 "nbformat": 4,
 "nbformat_minor": 4
}
