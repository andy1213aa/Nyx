{
 "cells": [
  {
   "cell_type": "code",
   "execution_count": 1,
   "metadata": {},
   "outputs": [],
   "source": [
    "import tensorflow as tf\n",
    "import os\n",
    "import numpy as np"
   ]
  },
  {
   "cell_type": "code",
   "execution_count": 8,
   "metadata": {},
   "outputs": [
    {
     "data": {
      "text/plain": [
       "<tensorflow.python.training.tracking.util.CheckpointLoadStatus at 0x149a7188e48>"
      ]
     },
     "execution_count": 8,
     "metadata": {},
     "output_type": "execute_result"
    }
   ],
   "source": [
    "from generator import generator\n",
    "\n",
    "model = generator()\n",
    "\n",
    "model.load_weights(\"E:\\\\NTNU1-2\\\\Nyx\\\\NyxDataSet\\\\wgan\\\\2020-8-11_20-38_3D_8.4%\\\\\")"
   ]
  },
  {
   "cell_type": "code",
   "execution_count": 9,
   "metadata": {},
   "outputs": [],
   "source": [
    "g = os.walk(r'E:\\NTNU1-2\\Nyx\\NyxDataSet\\NyxDataSet16_16_16')  \n",
    "training_set = []\n",
    "for path,dir_list,file_list in g:  \n",
    "    for file_name in file_list:  \n",
    "        tmp_data = np.fromfile(path+'\\\\'+file_name, dtype = 'float32')\n",
    "        #tmp_data_256_256_256 = tmp_data.reshape(256,256,256)\n",
    "        #tmp_data_16_16_16 = tmp_data_256_256_256[120:136, 120:136, 120:136]\n",
    "        training_set.append(tmp_data.reshape((16, 16, 16, 1)))"
   ]
  },
  {
   "cell_type": "code",
   "execution_count": 10,
   "metadata": {},
   "outputs": [],
   "source": [
    "\n",
    "filename = os.listdir(r'E:\\NTNU1-2\\Nyx\\NyxDataSet\\NyxDataSet16_16_16')\n",
    "\n",
    "\n",
    "\n",
    "parameter1 = tf.constant(np.array([np.float(file[5:12]) for file in filename], dtype=np.float32).reshape((len(filename), 1))[:64])\n",
    "parameter2 = tf.constant(np.array([np.float(file[13:20]) for file in filename], dtype=np.float32).reshape((len(filename), 1))[:64])\n",
    "parameter3 = tf.constant(np.array([np.float(file[21:28]) for file in filename], dtype=np.float32).reshape((len(filename), 1))[:64])\n"
   ]
  },
  {
   "cell_type": "code",
   "execution_count": 11,
   "metadata": {},
   "outputs": [],
   "source": [
    "c = model([parameter1, parameter2, parameter3])"
   ]
  },
  {
   "cell_type": "code",
   "execution_count": 35,
   "metadata": {},
   "outputs": [],
   "source": [
    "maxs = np.max(training_set[2])"
   ]
  },
  {
   "cell_type": "code",
   "execution_count": 36,
   "metadata": {},
   "outputs": [],
   "source": [
    "mins = np.min(training_set[2])"
   ]
  },
  {
   "cell_type": "code",
   "execution_count": 37,
   "metadata": {},
   "outputs": [
    {
     "data": {
      "text/plain": [
       "<tf.Tensor: shape=(), dtype=float32, numpy=0.088198915>"
      ]
     },
     "execution_count": 37,
     "metadata": {},
     "output_type": "execute_result"
    }
   ],
   "source": [
    "tf.sqrt(tf.reduce_mean((training_set[2] - c.numpy()[2])**2)) / (maxs - mins)"
   ]
  },
  {
   "cell_type": "code",
   "execution_count": 27,
   "metadata": {},
   "outputs": [],
   "source": [
    "c.numpy()[1].reshape((16, 16, 16)).tofile(r'E:\\NTNU1-2\\Nyx\\3D8.4%_0001train_16x16x16.bin')"
   ]
  },
  {
   "cell_type": "code",
   "execution_count": 14,
   "metadata": {},
   "outputs": [
    {
     "ename": "SyntaxError",
     "evalue": "unexpected character after line continuation character (<ipython-input-14-484369237f10>, line 30)",
     "output_type": "error",
     "traceback": [
      "\u001b[1;36m  File \u001b[1;32m\"<ipython-input-14-484369237f10>\"\u001b[1;36m, line \u001b[1;32m30\u001b[0m\n\u001b[1;33m    print(predict\\(tf.reduce_max(tmp_data) - tf.reduce_min(tmp_data)))\u001b[0m\n\u001b[1;37m                                                                      ^\u001b[0m\n\u001b[1;31mSyntaxError\u001b[0m\u001b[1;31m:\u001b[0m unexpected character after line continuation character\n"
     ]
    }
   ],
   "source": [
    "import numpy as np\n",
    "import tensorflow as tf\n",
    "from tensorflow.keras.models import load_model \n",
    "import os \n",
    "\n",
    "g = os.walk(r'E:\\NTNU1-2\\Nyx\\NyxDataSet\\NyxDataSet16_16_16')  #每次記得要改\n",
    "rmse_percentage_collect = []\n",
    "\n",
    "from generator import generator\n",
    "from discriminator import discriminator\n",
    "model = generator()\n",
    "model = discriminator()\n",
    "model.load_weights(r\"E:\\NTNU1-2\\Nyx\\NyxDataSet\\wgan\\2020-8-17_19-11\\dis\" + \"\\\\trained_ckpt\")\n",
    "#model = load_model(r'E:\\NTNU1-2\\Nyx\\NyxDataSet\\wgan\\2020-8-17_12-15\\run-0')   #每次記得要改\n",
    "\n",
    "for path,dir_list,file_list in g:  \n",
    "    for file_name in file_list:\n",
    "        \n",
    "        inputs1 = tf.constant([np.float(file_name[5:12])])\n",
    "        inputs2 = tf.constant([np.float(file_name[13:20])])\n",
    "        inputs3 = tf.constant([np.float(file_name[21:28])])\n",
    "        #predict = model.predict([inputs1, inputs2, inputs3]).reshape(16,16,16)\n",
    "        \n",
    "        tmp_data = np.fromfile(path+'\\\\'+file_name, dtype = 'float32').reshape(1,16,16,16, 1)\n",
    "        predict = model.predict(tmp_data)\n",
    "        #tmp_data = (tmp_data-np.mean(tmp_data))/np.std(tmp_data)\n",
    "#         rmse = tf.sqrt(tf.reduce_mean((tmp_data - predict)**2)) / (tf.reduce_max(tmp_data) - tf.reduce_min(tmp_data))\n",
    "#         rmse_percentage = rmse * 100\n",
    "#         predict.tofile(f'Nyx-{file_list.index(file_name)}.bin')\n",
    "        print(predict\\(tf.reduce_max(tmp_data) - tf.reduce_min(tmp_data)))\n",
    "#         rmse_percentage_collect.append(rmse_percentage.numpy())"
   ]
  },
  {
   "cell_type": "code",
   "execution_count": null,
   "metadata": {},
   "outputs": [],
   "source": []
  }
 ],
 "metadata": {
  "kernelspec": {
   "display_name": "Python 3.7.6 64-bit ('2.1.0-gpu': conda)",
   "language": "python",
   "name": "python37664bit210gpuconda4d41b7294bd94f81a9253fc8759eb436"
  },
  "language_info": {
   "codemirror_mode": {
    "name": "ipython",
    "version": 3
   },
   "file_extension": ".py",
   "mimetype": "text/x-python",
   "name": "python",
   "nbconvert_exporter": "python",
   "pygments_lexer": "ipython3",
   "version": "3.7.6"
  }
 },
 "nbformat": 4,
 "nbformat_minor": 4
}
